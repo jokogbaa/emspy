{
 "cells": [
  {
   "cell_type": "markdown",
   "metadata": {},
   "source": [
    "<h1>Querying for Flight-Based Information</h1>\n",
    "This refers to getting database results for anything that is Flight related. Think of it as being able to qury all the data that is available in EMS when doing an EMS Explorer query on \"Flights\""
   ]
  },
  {
   "cell_type": "markdown",
   "metadata": {},
   "source": [
    "As always, we will need to create a connection object before we can do any kind of query.  This has been covered in a previous notebook. <br>"
   ]
  },
  {
   "cell_type": "code",
   "execution_count": 1,
   "metadata": {},
   "outputs": [],
   "source": [
    "import getpass\n",
    "import emspy\n",
    "from emspy import Connection"
   ]
  },
  {
   "cell_type": "code",
   "execution_count": 2,
   "metadata": {},
   "outputs": [],
   "source": [
    "#-- Original --#\n",
    "# user_name = input('Enter Username:')\n",
    "# pwd = getpass.getpass('Enter Password:')\n",
    "#--------------#\n",
    "\n",
    "user_name = 'jeffrey.okogbaa'\n",
    "pwd = 'Footballsd8973!'"
   ]
  },
  {
   "cell_type": "code",
   "execution_count": 3,
   "metadata": {},
   "outputs": [],
   "source": [
    "server_url = 'https://oae-api.us.efoqa.com/api'"
   ]
  },
  {
   "cell_type": "code",
   "execution_count": 4,
   "metadata": {},
   "outputs": [],
   "source": [
    "#connection without proxy\n",
    "c = Connection(user=user_name, pwd=pwd, server_url=server_url)"
   ]
  },
  {
   "cell_type": "markdown",
   "metadata": {},
   "source": [
    "<h1>Example 1: Simple Query on basic Flight Fields</h1>\n",
    "For this example, we want to find out how many flights each tail in the system has where the 'Random Number [0-1]' is less than 0.1"
   ]
  },
  {
   "cell_type": "markdown",
   "metadata": {},
   "source": [
    "<h2>Step 1: Import package</h2>\n",
    "Import the <b>FltQuery</b> class from emsPy. This is the class that is used to make all database queries in emsPy"
   ]
  },
  {
   "cell_type": "code",
   "execution_count": 5,
   "metadata": {},
   "outputs": [],
   "source": [
    "from emspy.query import FltQuery"
   ]
  },
  {
   "cell_type": "markdown",
   "metadata": {},
   "source": [
    "<h2>Step 2: Create object</h2>\n",
    "Create a query object by passing in a valid <i>connection</i> object, the system to connect to, and a .db file to store metadata."
   ]
  },
  {
   "cell_type": "code",
   "execution_count": 6,
   "metadata": {},
   "outputs": [
    {
     "name": "stdout",
     "output_type": "stream",
     "text": [
      "On <root>(root)...\n"
     ]
    },
    {
     "name": "stderr",
     "output_type": "stream",
     "text": [
      "C:\\Users\\MROJKO\\Anaconda3\\lib\\site-packages\\emspy\\query\\flight.py:366: FutureWarning: The frame.append method is deprecated and will be removed from pandas in a future version. Use pandas.concat instead.\n",
      "  self._trees[treetype].append([x for x in d2 if x['id'] in add_id])\n"
     ]
    },
    {
     "name": "stdout",
     "output_type": "stream",
     "text": [
      "=== Starting to update subtree from 'FDW (database_group)' ===\n",
      "On FDW(database_group)...\n"
     ]
    },
    {
     "name": "stderr",
     "output_type": "stream",
     "text": [
      "C:\\Users\\MROJKO\\Anaconda3\\lib\\site-packages\\emspy\\query\\flight.py:278: FutureWarning: The frame.append method is deprecated and will be removed from pandas in a future version. Use pandas.concat instead.\n",
      "  self._trees[treetype] = self._trees[treetype].append(d1, ignore_index=True)\n",
      "C:\\Users\\MROJKO\\Anaconda3\\lib\\site-packages\\emspy\\query\\flight.py:286: FutureWarning: The frame.append method is deprecated and will be removed from pandas in a future version. Use pandas.concat instead.\n",
      "  self._trees[treetype] = self._trees[treetype].append(x, ignore_index=True)\n",
      "C:\\Users\\MROJKO\\Anaconda3\\lib\\site-packages\\emspy\\query\\flight.py:286: FutureWarning: The frame.append method is deprecated and will be removed from pandas in a future version. Use pandas.concat instead.\n",
      "  self._trees[treetype] = self._trees[treetype].append(x, ignore_index=True)\n",
      "C:\\Users\\MROJKO\\Anaconda3\\lib\\site-packages\\emspy\\query\\flight.py:286: FutureWarning: The frame.append method is deprecated and will be removed from pandas in a future version. Use pandas.concat instead.\n",
      "  self._trees[treetype] = self._trees[treetype].append(x, ignore_index=True)\n"
     ]
    },
    {
     "name": "stdout",
     "output_type": "stream",
     "text": [
      "-- Added 3 databases\n",
      "On Dimensions(database_group)...\n",
      "-- Added 20 databases\n"
     ]
    },
    {
     "name": "stderr",
     "output_type": "stream",
     "text": [
      "C:\\Users\\MROJKO\\Anaconda3\\lib\\site-packages\\emspy\\query\\flight.py:278: FutureWarning: The frame.append method is deprecated and will be removed from pandas in a future version. Use pandas.concat instead.\n",
      "  self._trees[treetype] = self._trees[treetype].append(d1, ignore_index=True)\n"
     ]
    }
   ],
   "source": [
    "query = FltQuery(c, 1, 'queryDatabase_flight.db')"
   ]
  },
  {
   "cell_type": "markdown",
   "metadata": {},
   "source": [
    "<h2>Step 3: Set Database</h2>\n",
    "Now that we have a <b>FltQuery</b> object, we need to select the database we want to query. Thisnk of this as selecting \"Flight\" in the EMS Explorer Analysis dialog as the Database to Query. In this case, the database we want is the \"FDW Flights\" one, which is in the \"FDW\" folder, which is loaded by default, so there is no need to update the database tree.<br>\n",
    "<img src=\"notebook_images/FDW_Flights_db.png\">"
   ]
  },
  {
   "cell_type": "code",
   "execution_count": 7,
   "metadata": {},
   "outputs": [
    {
     "name": "stdout",
     "output_type": "stream",
     "text": [
      "On FDW Flights(database)...\n",
      "Using database 'FDW Flights'.\n"
     ]
    },
    {
     "name": "stderr",
     "output_type": "stream",
     "text": [
      "C:\\Users\\MROJKO\\Anaconda3\\lib\\site-packages\\emspy\\query\\flight.py:366: FutureWarning: The frame.append method is deprecated and will be removed from pandas in a future version. Use pandas.concat instead.\n",
      "  self._trees[treetype].append([x for x in d2 if x['id'] in add_id])\n"
     ]
    }
   ],
   "source": [
    "query.set_database('FDW Flights')"
   ]
  },
  {
   "cell_type": "markdown",
   "metadata": {},
   "source": [
    "<h2>Step 4: Discover fields</h2>\n",
    "Since our <b>FltQuery</b> object does not know any of the fields in EMS yet, what we need to do is have it \"discover\" the fields that we will need for the qury (both select and filter fields). These fields are discovered by loading the folders that contain them. This is similar to traversing the Folder Tree in EMS Explorer until we find the fields that we want to filter/graph.\n",
    "\n",
    "For Our exmaple, we want the <i>Flight Record</i> and <i>Tail Nmber</i> fields, which are in the 'Flight Information' and 'Aircraft Information' respectively. While the <i>'Random Number [0-1]'</i> field (which we will use for filtering) is in the 'Data Information'folder.\n",
    "\n",
    "NOTE: discovering a folder makes the query aware of all the fileds inside the folder, but it does not yet add the fields to the query. We will do that in the next step<br>\n",
    "<img src=\"notebook_images/Flight_Query_fields.png\"><br>"
   ]
  },
  {
   "cell_type": "markdown",
   "metadata": {},
   "source": [
    "The method that we use to do the discovery is the update_fieldtree().\n",
    "\n",
    "<b>Note:</b> `exclude_tree` is a way to optimize field discovery.  This tells the code to <b><i>not</i></b> look in the specified folders (these could be folders with unecessary or excess information.  This is optional. "
   ]
  },
  {
   "cell_type": "code",
   "execution_count": 8,
   "metadata": {},
   "outputs": [
    {
     "name": "stdout",
     "output_type": "stream",
     "text": [
      "=== Starting to update subtree from 'Aircraft Information (field_group)' ===\n",
      "On Aircraft Information(field_group)...\n"
     ]
    },
    {
     "name": "stderr",
     "output_type": "stream",
     "text": [
      "C:\\Users\\MROJKO\\Anaconda3\\lib\\site-packages\\emspy\\query\\flight.py:278: FutureWarning: The frame.append method is deprecated and will be removed from pandas in a future version. Use pandas.concat instead.\n",
      "  self._trees[treetype] = self._trees[treetype].append(d1, ignore_index=True)\n",
      "C:\\Users\\MROJKO\\Anaconda3\\lib\\site-packages\\emspy\\query\\flight.py:286: FutureWarning: The frame.append method is deprecated and will be removed from pandas in a future version. Use pandas.concat instead.\n",
      "  self._trees[treetype] = self._trees[treetype].append(x, ignore_index=True)\n",
      "C:\\Users\\MROJKO\\Anaconda3\\lib\\site-packages\\emspy\\query\\flight.py:286: FutureWarning: The frame.append method is deprecated and will be removed from pandas in a future version. Use pandas.concat instead.\n",
      "  self._trees[treetype] = self._trees[treetype].append(x, ignore_index=True)\n",
      "C:\\Users\\MROJKO\\Anaconda3\\lib\\site-packages\\emspy\\query\\flight.py:286: FutureWarning: The frame.append method is deprecated and will be removed from pandas in a future version. Use pandas.concat instead.\n",
      "  self._trees[treetype] = self._trees[treetype].append(x, ignore_index=True)\n"
     ]
    },
    {
     "name": "stdout",
     "output_type": "stream",
     "text": [
      "-- Added 19 fields\n",
      "=== Starting to update subtree from 'Flight Information (field_group)' ===\n",
      "On Flight Information(field_group)...\n"
     ]
    },
    {
     "name": "stderr",
     "output_type": "stream",
     "text": [
      "C:\\Users\\MROJKO\\Anaconda3\\lib\\site-packages\\emspy\\query\\flight.py:278: FutureWarning: The frame.append method is deprecated and will be removed from pandas in a future version. Use pandas.concat instead.\n",
      "  self._trees[treetype] = self._trees[treetype].append(d1, ignore_index=True)\n",
      "C:\\Users\\MROJKO\\Anaconda3\\lib\\site-packages\\emspy\\query\\flight.py:286: FutureWarning: The frame.append method is deprecated and will be removed from pandas in a future version. Use pandas.concat instead.\n",
      "  self._trees[treetype] = self._trees[treetype].append(x, ignore_index=True)\n",
      "C:\\Users\\MROJKO\\Anaconda3\\lib\\site-packages\\emspy\\query\\flight.py:286: FutureWarning: The frame.append method is deprecated and will be removed from pandas in a future version. Use pandas.concat instead.\n",
      "  self._trees[treetype] = self._trees[treetype].append(x, ignore_index=True)\n"
     ]
    },
    {
     "name": "stdout",
     "output_type": "stream",
     "text": [
      "-- Added 6 fields\n",
      "=== Starting to update subtree from 'Data Information (field_group)' ===\n",
      "On Data Information(field_group)...\n",
      "-- Added 12 fields\n"
     ]
    },
    {
     "name": "stderr",
     "output_type": "stream",
     "text": [
      "C:\\Users\\MROJKO\\Anaconda3\\lib\\site-packages\\emspy\\query\\flight.py:278: FutureWarning: The frame.append method is deprecated and will be removed from pandas in a future version. Use pandas.concat instead.\n",
      "  self._trees[treetype] = self._trees[treetype].append(d1, ignore_index=True)\n"
     ]
    }
   ],
   "source": [
    "query.update_fieldtree('Aircraft Information', exclude_tree=['Airframe Information','Engine Information','Fleet Information'])\n",
    "query.update_fieldtree('Flight Information', exclude_tree=['Processing','Date Times','FlightPulse'])\n",
    "query.update_fieldtree('Data Information')"
   ]
  },
  {
   "cell_type": "markdown",
   "metadata": {},
   "source": [
    "<h2>Step 5: Select Fields</h2>\n",
    "We are ready to tell our query which fileds we want. we do this using the select method. The fields that are selected will be the columns that are returned by the query."
   ]
  },
  {
   "cell_type": "code",
   "execution_count": 9,
   "metadata": {},
   "outputs": [
    {
     "name": "stderr",
     "output_type": "stream",
     "text": [
      "C:\\Users\\MROJKO\\Anaconda3\\lib\\site-packages\\emspy\\query\\flight.py:525: FutureWarning: The frame.append method is deprecated and will be removed from pandas in a future version. Use pandas.concat instead.\n",
      "  res = res.append(fres, ignore_index=True)\n",
      "C:\\Users\\MROJKO\\Anaconda3\\lib\\site-packages\\emspy\\query\\flight.py:525: FutureWarning: The frame.append method is deprecated and will be removed from pandas in a future version. Use pandas.concat instead.\n",
      "  res = res.append(fres, ignore_index=True)\n"
     ]
    }
   ],
   "source": [
    "query.select('Flight Record','Tail Number')"
   ]
  },
  {
   "cell_type": "markdown",
   "metadata": {},
   "source": [
    "<h2>Step 6: Set Filters</h2>\n",
    "Next we want to filter the query to just the data we are interested in. we do this using the filter() method. The general form of a filter has 3 parts: the field, a comparison operator, and the value to comparte to. However, depending on the data type of the field different filter types are supported. Refer to the readme file for emsPy to see what operators are supported for what fields.\n",
    "\n",
    "In our case, we want to filer for flights where the 'Random Number [0-1]' < 0.1"
   ]
  },
  {
   "cell_type": "code",
   "execution_count": 10,
   "metadata": {},
   "outputs": [],
   "source": [
    "query.filter(\"'Random Number [0-1]' < '0.1'\")"
   ]
  },
  {
   "cell_type": "markdown",
   "metadata": {},
   "source": [
    "In case you are interested in the json body that will actually be sent to the API, you can use the in_json() method"
   ]
  },
  {
   "cell_type": "code",
   "execution_count": 11,
   "metadata": {},
   "outputs": [
    {
     "data": {
      "text/plain": [
       "'{\"select\": [{\"fieldId\": \"[-hub-][field][[[ems-core][entity-type][foqa-flights]][[ems-core][base-field][flight.uid]]]\", \"aggregate\": \"none\"}, {\"fieldId\": \"[-hub-][field][[[ems-core][entity-type][foqa-flights]][[ems-core][base-field][flight.aircraft]]]\", \"aggregate\": \"none\"}], \"groupBy\": [], \"orderBy\": [], \"distinct\": true, \"format\": \"none\", \"filter\": {\"operator\": \"and\", \"args\": [{\"type\": \"filter\", \"value\": {\"operator\": \"lessThan\", \"args\": [{\"type\": \"field\", \"value\": \"[-hub-][field][[[ems-core][entity-type][foqa-flights]][[ems-core][base-field][flight.random-sample]]]\"}, {\"type\": \"constant\", \"value\": \"0.1\"}]}}]}}'"
      ]
     },
     "execution_count": 11,
     "metadata": {},
     "output_type": "execute_result"
    }
   ],
   "source": [
    "query.in_json()"
   ]
  },
  {
   "cell_type": "markdown",
   "metadata": {},
   "source": [
    "<h2>Step 7: Run the Query</h2>\n",
    "We are ready to run the query. We do this using the run() method. This returns a pandas dataFrame"
   ]
  },
  {
   "cell_type": "code",
   "execution_count": 12,
   "metadata": {},
   "outputs": [
    {
     "name": "stdout",
     "output_type": "stream",
     "text": [
      "Sending and opening an async-query to EMS ... Done.\n",
      " === Async call: 1 ===\n",
      "Raw JSON output to Pandas dataframe...\n",
      "Tail Number: Getting key-value mappings from API. (Caution: Some fields take a very long time)\n",
      "Done.\n",
      "Received up to 15590 rows.\n",
      "Done.\n"
     ]
    },
    {
     "name": "stderr",
     "output_type": "stream",
     "text": [
      "C:\\Users\\MROJKO\\Anaconda3\\lib\\site-packages\\emspy\\query\\flight.py:584: FutureWarning: The frame.append method is deprecated and will be removed from pandas in a future version. Use pandas.concat instead.\n",
      "  self._trees['kvmaps'] = self._trees['kvmaps'].append(kmap, ignore_index=True)\n"
     ]
    }
   ],
   "source": [
    "df = query.run()"
   ]
  },
  {
   "cell_type": "markdown",
   "metadata": {},
   "source": [
    "Just taking a look at what the received data looks like"
   ]
  },
  {
   "cell_type": "code",
   "execution_count": 13,
   "metadata": {},
   "outputs": [
    {
     "data": {
      "text/html": [
       "<div>\n",
       "<style scoped>\n",
       "    .dataframe tbody tr th:only-of-type {\n",
       "        vertical-align: middle;\n",
       "    }\n",
       "\n",
       "    .dataframe tbody tr th {\n",
       "        vertical-align: top;\n",
       "    }\n",
       "\n",
       "    .dataframe thead th {\n",
       "        text-align: right;\n",
       "    }\n",
       "</style>\n",
       "<table border=\"1\" class=\"dataframe\">\n",
       "  <thead>\n",
       "    <tr style=\"text-align: right;\">\n",
       "      <th></th>\n",
       "      <th>Flight Record</th>\n",
       "      <th>Tail Number</th>\n",
       "    </tr>\n",
       "  </thead>\n",
       "  <tbody>\n",
       "    <tr>\n",
       "      <th>0</th>\n",
       "      <td>56078</td>\n",
       "      <td>N714AX</td>\n",
       "    </tr>\n",
       "    <tr>\n",
       "      <th>1</th>\n",
       "      <td>56091</td>\n",
       "      <td>N443AZ</td>\n",
       "    </tr>\n",
       "    <tr>\n",
       "      <th>2</th>\n",
       "      <td>56107</td>\n",
       "      <td>N443AZ</td>\n",
       "    </tr>\n",
       "    <tr>\n",
       "      <th>3</th>\n",
       "      <td>56110</td>\n",
       "      <td>N443AZ</td>\n",
       "    </tr>\n",
       "    <tr>\n",
       "      <th>4</th>\n",
       "      <td>56111</td>\n",
       "      <td>N443AZ</td>\n",
       "    </tr>\n",
       "    <tr>\n",
       "      <th>...</th>\n",
       "      <td>...</td>\n",
       "      <td>...</td>\n",
       "    </tr>\n",
       "    <tr>\n",
       "      <th>15585</th>\n",
       "      <td>236671</td>\n",
       "      <td>N364CM</td>\n",
       "    </tr>\n",
       "    <tr>\n",
       "      <th>15586</th>\n",
       "      <td>236674</td>\n",
       "      <td>N651GT</td>\n",
       "    </tr>\n",
       "    <tr>\n",
       "      <th>15587</th>\n",
       "      <td>236705</td>\n",
       "      <td>N371CM</td>\n",
       "    </tr>\n",
       "    <tr>\n",
       "      <th>15588</th>\n",
       "      <td>236715</td>\n",
       "      <td>N359AZ</td>\n",
       "    </tr>\n",
       "    <tr>\n",
       "      <th>15589</th>\n",
       "      <td>236724</td>\n",
       "      <td>N227AZ</td>\n",
       "    </tr>\n",
       "  </tbody>\n",
       "</table>\n",
       "<p>15590 rows × 2 columns</p>\n",
       "</div>"
      ],
      "text/plain": [
       "       Flight Record Tail Number\n",
       "0              56078      N714AX\n",
       "1              56091      N443AZ\n",
       "2              56107      N443AZ\n",
       "3              56110      N443AZ\n",
       "4              56111      N443AZ\n",
       "...              ...         ...\n",
       "15585         236671      N364CM\n",
       "15586         236674      N651GT\n",
       "15587         236705      N371CM\n",
       "15588         236715      N359AZ\n",
       "15589         236724      N227AZ\n",
       "\n",
       "[15590 rows x 2 columns]"
      ]
     },
     "execution_count": 13,
     "metadata": {},
     "output_type": "execute_result"
    }
   ],
   "source": [
    "df"
   ]
  },
  {
   "cell_type": "markdown",
   "metadata": {},
   "source": [
    "<h2>Step 8: Do some data transformation</h2>\n",
    "Now that the data is in a dataFrame, we can just use regular pandas operations to transform the data"
   ]
  },
  {
   "cell_type": "code",
   "execution_count": 14,
   "metadata": {},
   "outputs": [
    {
     "data": {
      "text/html": [
       "<div>\n",
       "<style scoped>\n",
       "    .dataframe tbody tr th:only-of-type {\n",
       "        vertical-align: middle;\n",
       "    }\n",
       "\n",
       "    .dataframe tbody tr th {\n",
       "        vertical-align: top;\n",
       "    }\n",
       "\n",
       "    .dataframe thead th {\n",
       "        text-align: right;\n",
       "    }\n",
       "</style>\n",
       "<table border=\"1\" class=\"dataframe\">\n",
       "  <thead>\n",
       "    <tr style=\"text-align: right;\">\n",
       "      <th></th>\n",
       "      <th>Flight Record</th>\n",
       "    </tr>\n",
       "    <tr>\n",
       "      <th>Tail Number</th>\n",
       "      <th></th>\n",
       "    </tr>\n",
       "  </thead>\n",
       "  <tbody>\n",
       "    <tr>\n",
       "      <th>N362CM</th>\n",
       "      <td>845</td>\n",
       "    </tr>\n",
       "    <tr>\n",
       "      <th>N219CY</th>\n",
       "      <td>781</td>\n",
       "    </tr>\n",
       "    <tr>\n",
       "      <th>N317CM</th>\n",
       "      <td>766</td>\n",
       "    </tr>\n",
       "    <tr>\n",
       "      <th>N749AX</th>\n",
       "      <td>721</td>\n",
       "    </tr>\n",
       "    <tr>\n",
       "      <th>N740AX</th>\n",
       "      <td>657</td>\n",
       "    </tr>\n",
       "    <tr>\n",
       "      <th>...</th>\n",
       "      <td>...</td>\n",
       "    </tr>\n",
       "    <tr>\n",
       "      <th>N762CK</th>\n",
       "      <td>24</td>\n",
       "    </tr>\n",
       "    <tr>\n",
       "      <th>N331AZ</th>\n",
       "      <td>22</td>\n",
       "    </tr>\n",
       "    <tr>\n",
       "      <th>N764CK</th>\n",
       "      <td>18</td>\n",
       "    </tr>\n",
       "    <tr>\n",
       "      <th>N650GT</th>\n",
       "      <td>17</td>\n",
       "    </tr>\n",
       "    <tr>\n",
       "      <th>N233AZ</th>\n",
       "      <td>13</td>\n",
       "    </tr>\n",
       "  </tbody>\n",
       "</table>\n",
       "<p>65 rows × 1 columns</p>\n",
       "</div>"
      ],
      "text/plain": [
       "             Flight Record\n",
       "Tail Number               \n",
       "N362CM                 845\n",
       "N219CY                 781\n",
       "N317CM                 766\n",
       "N749AX                 721\n",
       "N740AX                 657\n",
       "...                    ...\n",
       "N762CK                  24\n",
       "N331AZ                  22\n",
       "N764CK                  18\n",
       "N650GT                  17\n",
       "N233AZ                  13\n",
       "\n",
       "[65 rows x 1 columns]"
      ]
     },
     "execution_count": 14,
     "metadata": {},
     "output_type": "execute_result"
    }
   ],
   "source": [
    "df[['Flight Record', 'Tail Number']].groupby('Tail Number').count().sort_values('Flight Record',ascending=0)"
   ]
  },
  {
   "cell_type": "markdown",
   "metadata": {},
   "source": [
    "<h1>Example 2: Querying profile results</h1>\n",
    "This exmaple is very similar to the previous one, but we are going to pull data from a profile instead and then use python native capabilities to graph the data/"
   ]
  },
  {
   "cell_type": "markdown",
   "metadata": {},
   "source": [
    "When doing multiple queries, you can reuse the same FltQuery object, but you want use the reset() method in between queries. This clears the select and filter fields from teh presious query, but keep the same database"
   ]
  },
  {
   "cell_type": "code",
   "execution_count": 15,
   "metadata": {},
   "outputs": [],
   "source": [
    "query.reset()"
   ]
  },
  {
   "cell_type": "markdown",
   "metadata": {},
   "source": [
    "We are interested in some Takeoff Temperature info, so we just traverse the tree until we get to the folder that has the fields we want. Again, this is the discovery phase, and does not load any fields in the query yet."
   ]
  },
  {
   "cell_type": "code",
   "execution_count": 16,
   "metadata": {},
   "outputs": [
    {
     "name": "stdout",
     "output_type": "stream",
     "text": [
      "On Profiles(field_group)...\n"
     ]
    },
    {
     "name": "stderr",
     "output_type": "stream",
     "text": [
      "C:\\Users\\MROJKO\\Anaconda3\\lib\\site-packages\\emspy\\query\\flight.py:366: FutureWarning: The frame.append method is deprecated and will be removed from pandas in a future version. Use pandas.concat instead.\n",
      "  self._trees[treetype].append([x for x in d2 if x['id'] in add_id])\n"
     ]
    },
    {
     "name": "stdout",
     "output_type": "stream",
     "text": [
      "On Standard Library Profiles(field_group)...\n"
     ]
    },
    {
     "name": "stderr",
     "output_type": "stream",
     "text": [
      "C:\\Users\\MROJKO\\Anaconda3\\lib\\site-packages\\emspy\\query\\flight.py:366: FutureWarning: The frame.append method is deprecated and will be removed from pandas in a future version. Use pandas.concat instead.\n",
      "  self._trees[treetype].append([x for x in d2 if x['id'] in add_id])\n"
     ]
    },
    {
     "name": "stdout",
     "output_type": "stream",
     "text": [
      "On Safety(field_group)...\n"
     ]
    },
    {
     "name": "stderr",
     "output_type": "stream",
     "text": [
      "C:\\Users\\MROJKO\\Anaconda3\\lib\\site-packages\\emspy\\query\\flight.py:366: FutureWarning: The frame.append method is deprecated and will be removed from pandas in a future version. Use pandas.concat instead.\n",
      "  self._trees[treetype].append([x for x in d2 if x['id'] in add_id])\n"
     ]
    },
    {
     "name": "stdout",
     "output_type": "stream",
     "text": [
      "On P0: Library Flight Operations Measurements(field_group)...\n"
     ]
    },
    {
     "name": "stderr",
     "output_type": "stream",
     "text": [
      "C:\\Users\\MROJKO\\Anaconda3\\lib\\site-packages\\emspy\\query\\flight.py:366: FutureWarning: The frame.append method is deprecated and will be removed from pandas in a future version. Use pandas.concat instead.\n",
      "  self._trees[treetype].append([x for x in d2 if x['id'] in add_id])\n"
     ]
    },
    {
     "name": "stdout",
     "output_type": "stream",
     "text": [
      "On Measured Items(field_group)...\n"
     ]
    },
    {
     "name": "stderr",
     "output_type": "stream",
     "text": [
      "C:\\Users\\MROJKO\\Anaconda3\\lib\\site-packages\\emspy\\query\\flight.py:366: FutureWarning: The frame.append method is deprecated and will be removed from pandas in a future version. Use pandas.concat instead.\n",
      "  self._trees[treetype].append([x for x in d2 if x['id'] in add_id])\n"
     ]
    },
    {
     "name": "stdout",
     "output_type": "stream",
     "text": [
      "On Takeoff and Climb(field_group)...\n"
     ]
    },
    {
     "name": "stderr",
     "output_type": "stream",
     "text": [
      "C:\\Users\\MROJKO\\Anaconda3\\lib\\site-packages\\emspy\\query\\flight.py:366: FutureWarning: The frame.append method is deprecated and will be removed from pandas in a future version. Use pandas.concat instead.\n",
      "  self._trees[treetype].append([x for x in d2 if x['id'] in add_id])\n"
     ]
    },
    {
     "name": "stdout",
     "output_type": "stream",
     "text": [
      "On Takeoff(field_group)...\n"
     ]
    },
    {
     "name": "stderr",
     "output_type": "stream",
     "text": [
      "C:\\Users\\MROJKO\\Anaconda3\\lib\\site-packages\\emspy\\query\\flight.py:366: FutureWarning: The frame.append method is deprecated and will be removed from pandas in a future version. Use pandas.concat instead.\n",
      "  self._trees[treetype].append([x for x in d2 if x['id'] in add_id])\n"
     ]
    },
    {
     "name": "stdout",
     "output_type": "stream",
     "text": [
      "On Measurements(field_group)...\n"
     ]
    },
    {
     "name": "stderr",
     "output_type": "stream",
     "text": [
      "C:\\Users\\MROJKO\\Anaconda3\\lib\\site-packages\\emspy\\query\\flight.py:366: FutureWarning: The frame.append method is deprecated and will be removed from pandas in a future version. Use pandas.concat instead.\n",
      "  self._trees[treetype].append([x for x in d2 if x['id'] in add_id])\n"
     ]
    },
    {
     "name": "stdout",
     "output_type": "stream",
     "text": [
      "On Atmosphere(field_group)...\n"
     ]
    },
    {
     "name": "stderr",
     "output_type": "stream",
     "text": [
      "C:\\Users\\MROJKO\\Anaconda3\\lib\\site-packages\\emspy\\query\\flight.py:347: FutureWarning: The frame.append method is deprecated and will be removed from pandas in a future version. Use pandas.concat instead.\n",
      "  self._trees[treetype] = self._trees[treetype].append(d1, ignore_index=True)\n",
      "C:\\Users\\MROJKO\\Anaconda3\\lib\\site-packages\\emspy\\query\\flight.py:366: FutureWarning: The frame.append method is deprecated and will be removed from pandas in a future version. Use pandas.concat instead.\n",
      "  self._trees[treetype].append([x for x in d2 if x['id'] in add_id])\n"
     ]
    },
    {
     "name": "stdout",
     "output_type": "stream",
     "text": [
      "-- Added 5 fields\n",
      "=== Starting to update subtree from 'Temperatures (field_group)' ===\n",
      "On Temperatures(field_group)...\n",
      "-- Added 8 fields\n"
     ]
    },
    {
     "name": "stderr",
     "output_type": "stream",
     "text": [
      "C:\\Users\\MROJKO\\Anaconda3\\lib\\site-packages\\emspy\\query\\flight.py:278: FutureWarning: The frame.append method is deprecated and will be removed from pandas in a future version. Use pandas.concat instead.\n",
      "  self._trees[treetype] = self._trees[treetype].append(d1, ignore_index=True)\n"
     ]
    }
   ],
   "source": [
    "query.update_fieldtree('Profiles', 'Standard Library Profiles', 'Safety', 'P0', 'Measured Items', 'Takeoff and Climb', 'Takeoff', 'Measurements', 'Atmosphere', 'Temperatures')"
   ]
  },
  {
   "cell_type": "markdown",
   "metadata": {},
   "source": [
    "SIDE NOTE: at any point you can save the discovered data to a .db file. You can then use this db file to reduce load times for later queries. with this DB file, you can skip the \"discovery\" phase in your script and go straight to the select/filter statements."
   ]
  },
  {
   "cell_type": "code",
   "execution_count": 17,
   "metadata": {},
   "outputs": [],
   "source": [
    "query.save_metadata('test.db')"
   ]
  },
  {
   "cell_type": "markdown",
   "metadata": {},
   "source": [
    "Select the fields that we want to return"
   ]
  },
  {
   "cell_type": "code",
   "execution_count": 18,
   "metadata": {},
   "outputs": [
    {
     "name": "stderr",
     "output_type": "stream",
     "text": [
      "C:\\Users\\MROJKO\\Anaconda3\\lib\\site-packages\\emspy\\query\\flight.py:525: FutureWarning: The frame.append method is deprecated and will be removed from pandas in a future version. Use pandas.concat instead.\n",
      "  res = res.append(fres, ignore_index=True)\n"
     ]
    }
   ],
   "source": [
    "query.select('P0: Outside Air Temperature', 'P0: Reported Takeoff Temperature')"
   ]
  },
  {
   "cell_type": "markdown",
   "metadata": {},
   "source": [
    "In this case we want all the data, so we are not setting any filters and just going straight to the query part"
   ]
  },
  {
   "cell_type": "code",
   "execution_count": 19,
   "metadata": {},
   "outputs": [
    {
     "name": "stdout",
     "output_type": "stream",
     "text": [
      "Sending and opening an async-query to EMS ... Done.\n",
      " === Async call: 1 ===\n",
      "Raw JSON output to Pandas dataframe...\n",
      "Done.\n",
      "Received up to 25000 rows.\n",
      " === Async call: 2 ===\n",
      "Raw JSON output to Pandas dataframe...\n",
      "Done.\n",
      "Received up to 35406 rows.\n",
      "Done.\n"
     ]
    },
    {
     "name": "stderr",
     "output_type": "stream",
     "text": [
      "C:\\Users\\MROJKO\\Anaconda3\\lib\\site-packages\\emspy\\query\\fltquery.py:498: FutureWarning: The frame.append method is deprecated and will be removed from pandas in a future version. Use pandas.concat instead.\n",
      "  df = df.append(dff, ignore_index=True)\n"
     ]
    }
   ],
   "source": [
    "df = query.run()"
   ]
  },
  {
   "cell_type": "code",
   "execution_count": 20,
   "metadata": {},
   "outputs": [
    {
     "data": {
      "text/html": [
       "<div>\n",
       "<style scoped>\n",
       "    .dataframe tbody tr th:only-of-type {\n",
       "        vertical-align: middle;\n",
       "    }\n",
       "\n",
       "    .dataframe tbody tr th {\n",
       "        vertical-align: top;\n",
       "    }\n",
       "\n",
       "    .dataframe thead th {\n",
       "        text-align: right;\n",
       "    }\n",
       "</style>\n",
       "<table border=\"1\" class=\"dataframe\">\n",
       "  <thead>\n",
       "    <tr style=\"text-align: right;\">\n",
       "      <th></th>\n",
       "      <th>P0: Outside Air Temperature at Liftoff (or Abort) (deg C)</th>\n",
       "      <th>P0: Reported Takeoff Temperature (deg C)</th>\n",
       "    </tr>\n",
       "  </thead>\n",
       "  <tbody>\n",
       "    <tr>\n",
       "      <th>0</th>\n",
       "      <td>2.545974</td>\n",
       "      <td>NaN</td>\n",
       "    </tr>\n",
       "    <tr>\n",
       "      <th>1</th>\n",
       "      <td>0.000000</td>\n",
       "      <td>0.0</td>\n",
       "    </tr>\n",
       "    <tr>\n",
       "      <th>2</th>\n",
       "      <td>7.631736</td>\n",
       "      <td>NaN</td>\n",
       "    </tr>\n",
       "  </tbody>\n",
       "</table>\n",
       "</div>"
      ],
      "text/plain": [
       "   P0: Outside Air Temperature at Liftoff (or Abort) (deg C)  \\\n",
       "0                                           2.545974           \n",
       "1                                           0.000000           \n",
       "2                                           7.631736           \n",
       "\n",
       "   P0: Reported Takeoff Temperature (deg C)  \n",
       "0                                       NaN  \n",
       "1                                       0.0  \n",
       "2                                       NaN  "
      ]
     },
     "execution_count": 20,
     "metadata": {},
     "output_type": "execute_result"
    }
   ],
   "source": [
    "df.head(3)"
   ]
  },
  {
   "cell_type": "markdown",
   "metadata": {},
   "source": [
    "Let's graph the data using builtin dataframe methods"
   ]
  },
  {
   "cell_type": "code",
   "execution_count": 21,
   "metadata": {},
   "outputs": [
    {
     "data": {
      "text/plain": [
       "<AxesSubplot:xlabel='P0: Outside Air Temperature at Liftoff (or Abort) (deg C)', ylabel='P0: Reported Takeoff Temperature (deg C)'>"
      ]
     },
     "execution_count": 21,
     "metadata": {},
     "output_type": "execute_result"
    },
    {
     "data": {
      "image/png": "[encoded data removed]",
      "text/plain": [
       "<Figure size 432x288 with 1 Axes>"
      ]
     },
     "metadata": {
      "needs_background": "light"
     },
     "output_type": "display_data"
    }
   ],
   "source": [
    "df.plot.scatter('P0: Outside Air Temperature at Liftoff (or Abort) (deg C)', 'P0: Reported Takeoff Temperature (deg C)')"
   ]
  }
 ],
 "metadata": {
  "kernelspec": {
   "display_name": "Python 3 (ipykernel)",
   "language": "python",
   "name": "python3"
  },
  "language_info": {
   "codemirror_mode": {
    "name": "ipython",
    "version": 3
   },
   "file_extension": ".py",
   "mimetype": "text/x-python",
   "name": "python",
   "nbconvert_exporter": "python",
   "pygments_lexer": "ipython3",
   "version": "3.9.12"
  },
  "vscode": {
   "interpreter": {
    "hash": "f182092d0a6525016b02e225462111a7e7dc0f4c7565c61c66b189504b830fe0"
   }
  }
 },
 "nbformat": 4,
 "nbformat_minor": 4
}
