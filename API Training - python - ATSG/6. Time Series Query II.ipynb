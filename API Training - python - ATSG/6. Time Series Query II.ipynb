{
 "cells": [
  {
   "cell_type": "markdown",
   "metadata": {},
   "source": [
    "<h1>Time Series Querying (II)</h1>"
   ]
  },
  {
   "cell_type": "markdown",
   "metadata": {},
   "source": [
    "Import emsPy."
   ]
  },
  {
   "cell_type": "code",
   "execution_count": 13,
   "metadata": {},
   "outputs": [],
   "source": [
    "from emspy import Connection\n",
    "from emspy.query import FltQuery\n",
    "from emspy.query import TSeriesQuery"
   ]
  },
  {
   "cell_type": "markdown",
   "metadata": {},
   "source": [
    "Import getpass for handling passwords. "
   ]
  },
  {
   "cell_type": "code",
   "execution_count": 14,
   "metadata": {},
   "outputs": [],
   "source": [
    "import getpass"
   ]
  },
  {
   "cell_type": "markdown",
   "metadata": {},
   "source": [
    "Import other packages. "
   ]
  },
  {
   "cell_type": "code",
   "execution_count": 15,
   "metadata": {},
   "outputs": [],
   "source": [
    "import pandas as pd\n",
    "import numpy as np"
   ]
  },
  {
   "cell_type": "markdown",
   "metadata": {},
   "source": [
    "Set up credentials. "
   ]
  },
  {
   "cell_type": "code",
   "execution_count": 16,
   "metadata": {},
   "outputs": [],
   "source": [
    "#-- Original --#\n",
    "# efoqa_user = input('Enter Username:')\n",
    "# efoqa_pass = getpass.getpass('Enter Password:')\n",
    "#--------------#\n",
    "\n",
    "efoqa_user = 'jeffrey.okogbaa'\n",
    "efoqa_pass = 'Footballsd8973!'"
   ]
  },
  {
   "cell_type": "markdown",
   "metadata": {},
   "source": [
    "Define a system. "
   ]
  },
  {
   "cell_type": "code",
   "execution_count": 17,
   "metadata": {},
   "outputs": [],
   "source": [
    "server_url = 'https://oae-api.us.efoqa.com/api'"
   ]
  },
  {
   "cell_type": "markdown",
   "metadata": {},
   "source": [
    "Create a connection."
   ]
  },
  {
   "cell_type": "code",
   "execution_count": 18,
   "metadata": {},
   "outputs": [],
   "source": [
    "c = Connection(user=efoqa_user, pwd=efoqa_pass, server_url=server_url)"
   ]
  },
  {
   "cell_type": "markdown",
   "metadata": {},
   "source": [
    "<h3>Multi Time Series Query with Specified Start and End</h3>"
   ]
  },
  {
   "cell_type": "code",
   "execution_count": 19,
   "metadata": {},
   "outputs": [],
   "source": [
    "tsq = TSeriesQuery(c, 1, data_file='tsData_multi.db')"
   ]
  },
  {
   "cell_type": "markdown",
   "metadata": {},
   "source": [
    "Specify the parameters you want to search for.  `tsq.select()` will take as many parameters as you give it."
   ]
  },
  {
   "cell_type": "code",
   "execution_count": 20,
   "metadata": {},
   "outputs": [],
   "source": [
    "tsq.select(\"baro-corrected altitude\", \"pressure altitude\", \"airspeed (calibrated; 1 or only)\", \"ground speed (best avail)\")"
   ]
  },
  {
   "cell_type": "code",
   "execution_count": 21,
   "metadata": {},
   "outputs": [],
   "source": [
    "flights = [235488, 235489, 235490, 235492]"
   ]
  },
  {
   "cell_type": "code",
   "execution_count": 22,
   "metadata": {},
   "outputs": [
    {
     "name": "stdout",
     "output_type": "stream",
     "text": [
      "\n",
      "=== Start running time-series data querying for 4 flights ===\n",
      "\n",
      "\u001b[K4 / 4: FR 235492 Done\n"
     ]
    }
   ],
   "source": [
    "res_dat = tsq.multi_run(flights)"
   ]
  },
  {
   "cell_type": "code",
   "execution_count": 23,
   "metadata": {},
   "outputs": [
    {
     "name": "stdout",
     "output_type": "stream",
     "text": [
      "tsq.multi_run() returns an object of type:  <class 'list'>\n",
      "The first element of res_dat is of type:  <class 'dict'>\n",
      "The keys of res_dat[0] are:  dict_keys(['flt_data', 'ts_data']) \n",
      "\n",
      "res_dat[0]['flt_data']:\n",
      "{'Flight Record': 235488}\n",
      "\n",
      "res_dat[0]['ts_data'].head(3):\n"
     ]
    },
    {
     "data": {
      "text/html": [
       "<div>\n",
       "<style scoped>\n",
       "    .dataframe tbody tr th:only-of-type {\n",
       "        vertical-align: middle;\n",
       "    }\n",
       "\n",
       "    .dataframe tbody tr th {\n",
       "        vertical-align: top;\n",
       "    }\n",
       "\n",
       "    .dataframe thead th {\n",
       "        text-align: right;\n",
       "    }\n",
       "</style>\n",
       "<table border=\"1\" class=\"dataframe\">\n",
       "  <thead>\n",
       "    <tr style=\"text-align: right;\">\n",
       "      <th></th>\n",
       "      <th>Time (sec)</th>\n",
       "      <th>Baro-Corrected Altitude (ft)</th>\n",
       "      <th>Pressure Altitude (ft)</th>\n",
       "      <th>Airspeed (calibrated; 1 or Only) (knots)</th>\n",
       "      <th>Ground Speed (best avail) (knots)</th>\n",
       "    </tr>\n",
       "  </thead>\n",
       "  <tbody>\n",
       "    <tr>\n",
       "      <th>0</th>\n",
       "      <td>0.0</td>\n",
       "      <td>116.993806</td>\n",
       "      <td>80.0</td>\n",
       "      <td>0.0</td>\n",
       "      <td>2.0</td>\n",
       "    </tr>\n",
       "    <tr>\n",
       "      <th>1</th>\n",
       "      <td>1.0</td>\n",
       "      <td>116.993806</td>\n",
       "      <td>80.0</td>\n",
       "      <td>0.0</td>\n",
       "      <td>0.0</td>\n",
       "    </tr>\n",
       "    <tr>\n",
       "      <th>2</th>\n",
       "      <td>2.0</td>\n",
       "      <td>116.993806</td>\n",
       "      <td>80.0</td>\n",
       "      <td>0.0</td>\n",
       "      <td>0.0</td>\n",
       "    </tr>\n",
       "  </tbody>\n",
       "</table>\n",
       "</div>"
      ],
      "text/plain": [
       "   Time (sec)  Baro-Corrected Altitude (ft)  Pressure Altitude (ft)  \\\n",
       "0         0.0                    116.993806                    80.0   \n",
       "1         1.0                    116.993806                    80.0   \n",
       "2         2.0                    116.993806                    80.0   \n",
       "\n",
       "   Airspeed (calibrated; 1 or Only) (knots)  Ground Speed (best avail) (knots)  \n",
       "0                                       0.0                                2.0  \n",
       "1                                       0.0                                0.0  \n",
       "2                                       0.0                                0.0  "
      ]
     },
     "metadata": {},
     "output_type": "display_data"
    }
   ],
   "source": [
    "print('tsq.multi_run() returns an object of type: ', type(res_dat))\n",
    "# print the first element in the res_dat list\n",
    "print('The first element of res_dat is of type: ', type(res_dat[0]) )\n",
    "print('The keys of res_dat[0] are: ', res_dat[0].keys(), '\\n')\n",
    "\n",
    "print(\"res_dat[0]['flt_data']:\")\n",
    "print(res_dat[0]['flt_data'])\n",
    "print()\n",
    "print(\"res_dat[0]['ts_data'].head(3):\")\n",
    "display(res_dat[0]['ts_data'].head(3))"
   ]
  },
  {
   "cell_type": "markdown",
   "metadata": {},
   "source": [
    "Illustration of the above: \n",
    "\n",
    "![test](notebook_images/res_dat.JPG)"
   ]
  },
  {
   "cell_type": "code",
   "execution_count": 24,
   "metadata": {},
   "outputs": [
    {
     "name": "stdout",
     "output_type": "stream",
     "text": [
      "235492\n"
     ]
    },
    {
     "data": {
      "text/html": [
       "<div>\n",
       "<style scoped>\n",
       "    .dataframe tbody tr th:only-of-type {\n",
       "        vertical-align: middle;\n",
       "    }\n",
       "\n",
       "    .dataframe tbody tr th {\n",
       "        vertical-align: top;\n",
       "    }\n",
       "\n",
       "    .dataframe thead th {\n",
       "        text-align: right;\n",
       "    }\n",
       "</style>\n",
       "<table border=\"1\" class=\"dataframe\">\n",
       "  <thead>\n",
       "    <tr style=\"text-align: right;\">\n",
       "      <th></th>\n",
       "      <th>Time (sec)</th>\n",
       "      <th>Baro-Corrected Altitude (ft)</th>\n",
       "      <th>Pressure Altitude (ft)</th>\n",
       "      <th>Airspeed (calibrated; 1 or Only) (knots)</th>\n",
       "      <th>Ground Speed (best avail) (knots)</th>\n",
       "    </tr>\n",
       "  </thead>\n",
       "  <tbody>\n",
       "    <tr>\n",
       "      <th>0</th>\n",
       "      <td>0.0</td>\n",
       "      <td>5380.264212</td>\n",
       "      <td>5482.0</td>\n",
       "      <td>0.0</td>\n",
       "      <td>0.0</td>\n",
       "    </tr>\n",
       "    <tr>\n",
       "      <th>1</th>\n",
       "      <td>1.0</td>\n",
       "      <td>5380.264212</td>\n",
       "      <td>5482.0</td>\n",
       "      <td>0.0</td>\n",
       "      <td>0.0</td>\n",
       "    </tr>\n",
       "    <tr>\n",
       "      <th>2</th>\n",
       "      <td>2.0</td>\n",
       "      <td>5381.264212</td>\n",
       "      <td>5483.0</td>\n",
       "      <td>0.0</td>\n",
       "      <td>0.0</td>\n",
       "    </tr>\n",
       "    <tr>\n",
       "      <th>3</th>\n",
       "      <td>3.0</td>\n",
       "      <td>5381.264212</td>\n",
       "      <td>5483.0</td>\n",
       "      <td>0.0</td>\n",
       "      <td>0.0</td>\n",
       "    </tr>\n",
       "    <tr>\n",
       "      <th>4</th>\n",
       "      <td>4.0</td>\n",
       "      <td>5380.264212</td>\n",
       "      <td>5482.0</td>\n",
       "      <td>0.0</td>\n",
       "      <td>0.0</td>\n",
       "    </tr>\n",
       "    <tr>\n",
       "      <th>5</th>\n",
       "      <td>5.0</td>\n",
       "      <td>5381.264212</td>\n",
       "      <td>5483.0</td>\n",
       "      <td>0.0</td>\n",
       "      <td>0.0</td>\n",
       "    </tr>\n",
       "    <tr>\n",
       "      <th>6</th>\n",
       "      <td>6.0</td>\n",
       "      <td>5380.264212</td>\n",
       "      <td>5482.0</td>\n",
       "      <td>0.0</td>\n",
       "      <td>0.0</td>\n",
       "    </tr>\n",
       "    <tr>\n",
       "      <th>7</th>\n",
       "      <td>7.0</td>\n",
       "      <td>5381.264212</td>\n",
       "      <td>5483.0</td>\n",
       "      <td>0.0</td>\n",
       "      <td>0.0</td>\n",
       "    </tr>\n",
       "    <tr>\n",
       "      <th>8</th>\n",
       "      <td>8.0</td>\n",
       "      <td>5381.264212</td>\n",
       "      <td>5483.0</td>\n",
       "      <td>0.0</td>\n",
       "      <td>0.0</td>\n",
       "    </tr>\n",
       "    <tr>\n",
       "      <th>9</th>\n",
       "      <td>9.0</td>\n",
       "      <td>5381.264212</td>\n",
       "      <td>5483.0</td>\n",
       "      <td>0.0</td>\n",
       "      <td>0.0</td>\n",
       "    </tr>\n",
       "  </tbody>\n",
       "</table>\n",
       "</div>"
      ],
      "text/plain": [
       "   Time (sec)  Baro-Corrected Altitude (ft)  Pressure Altitude (ft)  \\\n",
       "0         0.0                   5380.264212                  5482.0   \n",
       "1         1.0                   5380.264212                  5482.0   \n",
       "2         2.0                   5381.264212                  5483.0   \n",
       "3         3.0                   5381.264212                  5483.0   \n",
       "4         4.0                   5380.264212                  5482.0   \n",
       "5         5.0                   5381.264212                  5483.0   \n",
       "6         6.0                   5380.264212                  5482.0   \n",
       "7         7.0                   5381.264212                  5483.0   \n",
       "8         8.0                   5381.264212                  5483.0   \n",
       "9         9.0                   5381.264212                  5483.0   \n",
       "\n",
       "   Airspeed (calibrated; 1 or Only) (knots)  Ground Speed (best avail) (knots)  \n",
       "0                                       0.0                                0.0  \n",
       "1                                       0.0                                0.0  \n",
       "2                                       0.0                                0.0  \n",
       "3                                       0.0                                0.0  \n",
       "4                                       0.0                                0.0  \n",
       "5                                       0.0                                0.0  \n",
       "6                                       0.0                                0.0  \n",
       "7                                       0.0                                0.0  \n",
       "8                                       0.0                                0.0  \n",
       "9                                       0.0                                0.0  "
      ]
     },
     "metadata": {},
     "output_type": "display_data"
    }
   ],
   "source": [
    "print(res_dat[3]['flt_data']['Flight Record'])\n",
    "display(res_dat[3]['ts_data'].head(10))"
   ]
  },
  {
   "cell_type": "markdown",
   "metadata": {},
   "source": [
    "Calculate the mean of all columns in the dataframe at index 4. "
   ]
  },
  {
   "cell_type": "code",
   "execution_count": 25,
   "metadata": {},
   "outputs": [
    {
     "data": {
      "text/plain": [
       "Time (sec)                                   5966.000000\n",
       "Baro-Corrected Altitude (ft)                29888.863909\n",
       "Pressure Altitude (ft)                      29856.881830\n",
       "Airspeed (calibrated; 1 or Only) (knots)      227.493212\n",
       "Ground Speed (best avail) (knots)             410.013395\n",
       "dtype: float64"
      ]
     },
     "metadata": {},
     "output_type": "display_data"
    }
   ],
   "source": [
    "mean = res_dat[3]['ts_data'].mean()\n",
    "display(mean)"
   ]
  },
  {
   "cell_type": "markdown",
   "metadata": {},
   "source": [
    "You can access individual values easily: "
   ]
  },
  {
   "cell_type": "code",
   "execution_count": 26,
   "metadata": {},
   "outputs": [
    {
     "data": {
      "text/plain": [
       "29888.863908510008"
      ]
     },
     "execution_count": 26,
     "metadata": {},
     "output_type": "execute_result"
    }
   ],
   "source": [
    "mean['Baro-Corrected Altitude (ft)']"
   ]
  },
  {
   "cell_type": "code",
   "execution_count": 27,
   "metadata": {},
   "outputs": [],
   "source": [
    "stats = {}\n",
    "\n",
    "for res in res_dat:\n",
    "    fr = res['flt_data']['Flight Record']\n",
    "    df = res['ts_data']\n",
    "    stats[fr] = df.mean()"
   ]
  },
  {
   "cell_type": "markdown",
   "metadata": {},
   "source": [
    "Convert stats (which is a dictionary where each value is a Pandas Series) into a Dataframe.  Display the dataframe. "
   ]
  },
  {
   "cell_type": "code",
   "execution_count": 28,
   "metadata": {},
   "outputs": [
    {
     "data": {
      "text/html": [
       "<div>\n",
       "<style scoped>\n",
       "    .dataframe tbody tr th:only-of-type {\n",
       "        vertical-align: middle;\n",
       "    }\n",
       "\n",
       "    .dataframe tbody tr th {\n",
       "        vertical-align: top;\n",
       "    }\n",
       "\n",
       "    .dataframe thead th {\n",
       "        text-align: right;\n",
       "    }\n",
       "</style>\n",
       "<table border=\"1\" class=\"dataframe\">\n",
       "  <thead>\n",
       "    <tr style=\"text-align: right;\">\n",
       "      <th></th>\n",
       "      <th>235488</th>\n",
       "      <th>235489</th>\n",
       "      <th>235490</th>\n",
       "      <th>235492</th>\n",
       "    </tr>\n",
       "  </thead>\n",
       "  <tbody>\n",
       "    <tr>\n",
       "      <th>Time (sec)</th>\n",
       "      <td>4456.000000</td>\n",
       "      <td>5934.000000</td>\n",
       "      <td>6986.000000</td>\n",
       "      <td>5966.000000</td>\n",
       "    </tr>\n",
       "    <tr>\n",
       "      <th>Baro-Corrected Altitude (ft)</th>\n",
       "      <td>25009.934883</td>\n",
       "      <td>26344.158376</td>\n",
       "      <td>31610.510071</td>\n",
       "      <td>29888.863909</td>\n",
       "    </tr>\n",
       "    <tr>\n",
       "      <th>Pressure Altitude (ft)</th>\n",
       "      <td>25026.495063</td>\n",
       "      <td>26309.326761</td>\n",
       "      <td>31587.286788</td>\n",
       "      <td>29856.881830</td>\n",
       "    </tr>\n",
       "    <tr>\n",
       "      <th>Airspeed (calibrated; 1 or Only) (knots)</th>\n",
       "      <td>223.769749</td>\n",
       "      <td>234.322169</td>\n",
       "      <td>238.948433</td>\n",
       "      <td>227.493212</td>\n",
       "    </tr>\n",
       "    <tr>\n",
       "      <th>Ground Speed (best avail) (knots)</th>\n",
       "      <td>361.732638</td>\n",
       "      <td>327.990921</td>\n",
       "      <td>357.250728</td>\n",
       "      <td>410.013395</td>\n",
       "    </tr>\n",
       "  </tbody>\n",
       "</table>\n",
       "</div>"
      ],
      "text/plain": [
       "                                                235488        235489  \\\n",
       "Time (sec)                                 4456.000000   5934.000000   \n",
       "Baro-Corrected Altitude (ft)              25009.934883  26344.158376   \n",
       "Pressure Altitude (ft)                    25026.495063  26309.326761   \n",
       "Airspeed (calibrated; 1 or Only) (knots)    223.769749    234.322169   \n",
       "Ground Speed (best avail) (knots)           361.732638    327.990921   \n",
       "\n",
       "                                                235490        235492  \n",
       "Time (sec)                                 6986.000000   5966.000000  \n",
       "Baro-Corrected Altitude (ft)              31610.510071  29888.863909  \n",
       "Pressure Altitude (ft)                    31587.286788  29856.881830  \n",
       "Airspeed (calibrated; 1 or Only) (knots)    238.948433    227.493212  \n",
       "Ground Speed (best avail) (knots)           357.250728    410.013395  "
      ]
     },
     "metadata": {},
     "output_type": "display_data"
    }
   ],
   "source": [
    "stats_df = pd.DataFrame(stats)\n",
    "display(stats_df)"
   ]
  },
  {
   "cell_type": "markdown",
   "metadata": {},
   "source": [
    "That looks gross.  Transpose it. "
   ]
  },
  {
   "cell_type": "code",
   "execution_count": 29,
   "metadata": {},
   "outputs": [],
   "source": [
    "stats_df = stats_df.T"
   ]
  },
  {
   "cell_type": "code",
   "execution_count": 30,
   "metadata": {},
   "outputs": [
    {
     "data": {
      "text/html": [
       "<div>\n",
       "<style scoped>\n",
       "    .dataframe tbody tr th:only-of-type {\n",
       "        vertical-align: middle;\n",
       "    }\n",
       "\n",
       "    .dataframe tbody tr th {\n",
       "        vertical-align: top;\n",
       "    }\n",
       "\n",
       "    .dataframe thead th {\n",
       "        text-align: right;\n",
       "    }\n",
       "</style>\n",
       "<table border=\"1\" class=\"dataframe\">\n",
       "  <thead>\n",
       "    <tr style=\"text-align: right;\">\n",
       "      <th></th>\n",
       "      <th>Time (sec)</th>\n",
       "      <th>Baro-Corrected Altitude (ft)</th>\n",
       "      <th>Pressure Altitude (ft)</th>\n",
       "      <th>Airspeed (calibrated; 1 or Only) (knots)</th>\n",
       "      <th>Ground Speed (best avail) (knots)</th>\n",
       "    </tr>\n",
       "  </thead>\n",
       "  <tbody>\n",
       "    <tr>\n",
       "      <th>235488</th>\n",
       "      <td>4456.0</td>\n",
       "      <td>25009.934883</td>\n",
       "      <td>25026.495063</td>\n",
       "      <td>223.769749</td>\n",
       "      <td>361.732638</td>\n",
       "    </tr>\n",
       "    <tr>\n",
       "      <th>235489</th>\n",
       "      <td>5934.0</td>\n",
       "      <td>26344.158376</td>\n",
       "      <td>26309.326761</td>\n",
       "      <td>234.322169</td>\n",
       "      <td>327.990921</td>\n",
       "    </tr>\n",
       "    <tr>\n",
       "      <th>235490</th>\n",
       "      <td>6986.0</td>\n",
       "      <td>31610.510071</td>\n",
       "      <td>31587.286788</td>\n",
       "      <td>238.948433</td>\n",
       "      <td>357.250728</td>\n",
       "    </tr>\n",
       "    <tr>\n",
       "      <th>235492</th>\n",
       "      <td>5966.0</td>\n",
       "      <td>29888.863909</td>\n",
       "      <td>29856.881830</td>\n",
       "      <td>227.493212</td>\n",
       "      <td>410.013395</td>\n",
       "    </tr>\n",
       "  </tbody>\n",
       "</table>\n",
       "</div>"
      ],
      "text/plain": [
       "        Time (sec)  Baro-Corrected Altitude (ft)  Pressure Altitude (ft)  \\\n",
       "235488      4456.0                  25009.934883            25026.495063   \n",
       "235489      5934.0                  26344.158376            26309.326761   \n",
       "235490      6986.0                  31610.510071            31587.286788   \n",
       "235492      5966.0                  29888.863909            29856.881830   \n",
       "\n",
       "        Airspeed (calibrated; 1 or Only) (knots)  \\\n",
       "235488                                223.769749   \n",
       "235489                                234.322169   \n",
       "235490                                238.948433   \n",
       "235492                                227.493212   \n",
       "\n",
       "        Ground Speed (best avail) (knots)  \n",
       "235488                         361.732638  \n",
       "235489                         327.990921  \n",
       "235490                         357.250728  \n",
       "235492                         410.013395  "
      ]
     },
     "metadata": {},
     "output_type": "display_data"
    }
   ],
   "source": [
    "display(stats_df)"
   ]
  },
  {
   "cell_type": "markdown",
   "metadata": {},
   "source": [
    "<h3>Plotting</h3>"
   ]
  },
  {
   "cell_type": "markdown",
   "metadata": {},
   "source": [
    "There are ***a ton*** of plotting libraries in Python. It was one of the first, and many other plotting libraries in Python are built on top of the Matplotlib interface. \n",
    "\n",
    "It is notoriously hard to work with.  I highly recommend researching other visualization libraries on your own.  \n",
    "\n",
    "1. bokeh\n",
    "2. seaborn\n",
    "3. holoviews\n",
    "4. plotly \n",
    "5. dash (made by the same people as plotly) - Python based dashboarding tool"
   ]
  },
  {
   "cell_type": "markdown",
   "metadata": {},
   "source": [
    "Simple way: ***use built in pandas plotting methods!!!***"
   ]
  },
  {
   "cell_type": "code",
   "execution_count": 31,
   "metadata": {},
   "outputs": [],
   "source": [
    "import matplotlib.pyplot as plt"
   ]
  },
  {
   "cell_type": "code",
   "execution_count": 32,
   "metadata": {},
   "outputs": [
    {
     "data": {
      "text/plain": [
       "<matplotlib.legend.Legend at 0x2a725ac0520>"
      ]
     },
     "execution_count": 32,
     "metadata": {},
     "output_type": "execute_result"
    },
    {
     "data": {
      "image/png": "[encoded data removed]",
      "text/plain": [
       "<Figure size 864x432 with 1 Axes>"
      ]
     },
     "metadata": {
      "needs_background": "light"
     },
     "output_type": "display_data"
    }
   ],
   "source": [
    "fig, ax = plt.subplots(figsize=(12, 6))\n",
    "\n",
    "for entry in res_dat:\n",
    "    ts_data = entry['ts_data']\n",
    "    ax.plot(ts_data['Time (sec)'], ts_data['Baro-Corrected Altitude (ft)'], label=entry['flt_data']['Flight Record'])\n",
    "    \n",
    "ax.legend()"
   ]
  },
  {
   "cell_type": "markdown",
   "metadata": {},
   "source": [
    "<h3>Plotting with Start/End</h3>"
   ]
  },
  {
   "cell_type": "markdown",
   "metadata": {},
   "source": [
    "Define `flights`, `starts`, and `ends`, which we will use to grab the time series values. \n",
    "\n",
    "You can imagine these values coming from a previous database query. \n",
    "\n",
    "E.g. `flights` could be flight records that had some event, and `starts`, and `ends`, could be the starting times and ending times of these events. "
   ]
  },
  {
   "cell_type": "code",
   "execution_count": 33,
   "metadata": {},
   "outputs": [],
   "source": [
    "flights = [235488, 235489, 235490, 235492]\n",
    "starts = [50, 60, 70, 80]\n",
    "ends = [70, 80, 90, 100]"
   ]
  },
  {
   "cell_type": "code",
   "execution_count": 34,
   "metadata": {},
   "outputs": [
    {
     "name": "stdout",
     "output_type": "stream",
     "text": [
      "\n",
      "=== Start running time-series data querying for 4 flights ===\n",
      "\n",
      "\u001b[K4 / 4: FR 235492 Done\n"
     ]
    }
   ],
   "source": [
    "res_dat = tsq.multi_run(flights, start=starts, end=ends)"
   ]
  },
  {
   "cell_type": "code",
   "execution_count": 35,
   "metadata": {},
   "outputs": [
    {
     "data": {
      "text/plain": [
       "<matplotlib.legend.Legend at 0x2a7265d4940>"
      ]
     },
     "execution_count": 35,
     "metadata": {},
     "output_type": "execute_result"
    },
    {
     "data": {
      "image/png": "[encoded data removed]",
      "text/plain": [
       "<Figure size 864x432 with 1 Axes>"
      ]
     },
     "metadata": {
      "needs_background": "light"
     },
     "output_type": "display_data"
    }
   ],
   "source": [
    "fig, ax = plt.subplots(figsize=(12, 6))\n",
    "\n",
    "for entry in res_dat:\n",
    "    ts_data = entry['ts_data']\n",
    "    ax.plot(ts_data['Time (sec)'], ts_data['Baro-Corrected Altitude (ft)'], label=entry['flt_data']['Flight Record'])\n",
    "    \n",
    "ax.legend()"
   ]
  }
 ],
 "metadata": {
  "kernelspec": {
   "display_name": "Python 3 (ipykernel)",
   "language": "python",
   "name": "python3"
  },
  "language_info": {
   "codemirror_mode": {
    "name": "ipython",
    "version": 3
   },
   "file_extension": ".py",
   "mimetype": "text/x-python",
   "name": "python",
   "nbconvert_exporter": "python",
   "pygments_lexer": "ipython3",
   "version": "3.9.12"
  },
  "vscode": {
   "interpreter": {
    "hash": "f182092d0a6525016b02e225462111a7e7dc0f4c7565c61c66b189504b830fe0"
   }
  }
 },
 "nbformat": 4,
 "nbformat_minor": 4
}
