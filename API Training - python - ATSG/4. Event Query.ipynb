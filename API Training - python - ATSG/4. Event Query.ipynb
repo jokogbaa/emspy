{
 "cells": [
  {
   "cell_type": "markdown",
   "metadata": {},
   "source": [
    "<h1>Querying for Events and Event-Specific Measurements</h1>"
   ]
  },
  {
   "cell_type": "markdown",
   "metadata": {},
   "source": [
    "First we will need to create a connection object.  This has been covered in a previous notebook. <br>"
   ]
  },
  {
   "cell_type": "code",
   "execution_count": 1,
   "metadata": {},
   "outputs": [],
   "source": [
    "import getpass\n",
    "import emspy\n",
    "from emspy import Connection\n",
    "import numpy as np"
   ]
  },
  {
   "cell_type": "code",
   "execution_count": 2,
   "metadata": {},
   "outputs": [],
   "source": [
    "#-- Original --#\n",
    "# user_name = input('Enter Username:')\n",
    "# pwd = getpass.getpass('Enter Password:')\n",
    "#--------------#\n",
    "\n",
    "user_name = 'jeffrey.okogbaa'\n",
    "pwd = 'Footballsd8973!'"
   ]
  },
  {
   "cell_type": "code",
   "execution_count": 3,
   "metadata": {},
   "outputs": [],
   "source": [
    "server_url = 'https://oae-api.us.efoqa.com/api'"
   ]
  },
  {
   "cell_type": "code",
   "execution_count": 4,
   "metadata": {},
   "outputs": [],
   "source": [
    "c = Connection(user=user_name, pwd=pwd, server_url=server_url)"
   ]
  },
  {
   "cell_type": "markdown",
   "metadata": {},
   "source": [
    "<h1>Example: Query High Rate of Descent Events and graph some relevant measurements</h1>\n",
    "<ol>\n",
    "    <li>Create an Event Query with filter for Event Type == 'High Rate of Descent on Final Approach' and return 'ROD at Max Exceedance', 'HAT at Max exceedance', and 'Severity'.</li>\n",
    "    <li>Create a scatter plot of 'ROD at max Exceedance' vs 'HAT at Max Exceedance' and color the dots by severity.</li>\n",
    "</ol>"
   ]
  },
  {
   "cell_type": "markdown",
   "metadata": {},
   "source": [
    "<h2>Step 1: Import FltQuery Class</h2>\n",
    "To create a database query, we will need first import the `FltQuery` class. The Class is slighly misnamed since it is used for all dtabase queries and not just flights."
   ]
  },
  {
   "cell_type": "code",
   "execution_count": 5,
   "metadata": {},
   "outputs": [],
   "source": [
    "from emspy.query import FltQuery"
   ]
  },
  {
   "cell_type": "markdown",
   "metadata": {},
   "source": [
    "<h2>Step 2: Create object</h2>\n",
    "Create a query object by passing in a valid <i>connection</i> object, the system to connect to, and a .db file to store metadata."
   ]
  },
  {
   "cell_type": "code",
   "execution_count": 6,
   "metadata": {},
   "outputs": [
    {
     "name": "stdout",
     "output_type": "stream",
     "text": [
      "On <root>(root)...\n"
     ]
    },
    {
     "name": "stderr",
     "output_type": "stream",
     "text": [
      "C:\\Users\\MROJKO\\Anaconda3\\lib\\site-packages\\emspy\\query\\flight.py:366: FutureWarning: The frame.append method is deprecated and will be removed from pandas in a future version. Use pandas.concat instead.\n",
      "  self._trees[treetype].append([x for x in d2 if x['id'] in add_id])\n"
     ]
    },
    {
     "name": "stdout",
     "output_type": "stream",
     "text": [
      "=== Starting to update subtree from 'FDW (database_group)' ===\n",
      "On FDW(database_group)...\n"
     ]
    },
    {
     "name": "stderr",
     "output_type": "stream",
     "text": [
      "C:\\Users\\MROJKO\\Anaconda3\\lib\\site-packages\\emspy\\query\\flight.py:278: FutureWarning: The frame.append method is deprecated and will be removed from pandas in a future version. Use pandas.concat instead.\n",
      "  self._trees[treetype] = self._trees[treetype].append(d1, ignore_index=True)\n",
      "C:\\Users\\MROJKO\\Anaconda3\\lib\\site-packages\\emspy\\query\\flight.py:286: FutureWarning: The frame.append method is deprecated and will be removed from pandas in a future version. Use pandas.concat instead.\n",
      "  self._trees[treetype] = self._trees[treetype].append(x, ignore_index=True)\n",
      "C:\\Users\\MROJKO\\Anaconda3\\lib\\site-packages\\emspy\\query\\flight.py:286: FutureWarning: The frame.append method is deprecated and will be removed from pandas in a future version. Use pandas.concat instead.\n",
      "  self._trees[treetype] = self._trees[treetype].append(x, ignore_index=True)\n",
      "C:\\Users\\MROJKO\\Anaconda3\\lib\\site-packages\\emspy\\query\\flight.py:286: FutureWarning: The frame.append method is deprecated and will be removed from pandas in a future version. Use pandas.concat instead.\n",
      "  self._trees[treetype] = self._trees[treetype].append(x, ignore_index=True)\n"
     ]
    },
    {
     "name": "stdout",
     "output_type": "stream",
     "text": [
      "-- Added 3 databases\n",
      "On Dimensions(database_group)...\n",
      "-- Added 20 databases\n"
     ]
    },
    {
     "name": "stderr",
     "output_type": "stream",
     "text": [
      "C:\\Users\\MROJKO\\Anaconda3\\lib\\site-packages\\emspy\\query\\flight.py:278: FutureWarning: The frame.append method is deprecated and will be removed from pandas in a future version. Use pandas.concat instead.\n",
      "  self._trees[treetype] = self._trees[treetype].append(d1, ignore_index=True)\n"
     ]
    }
   ],
   "source": [
    "query = FltQuery(c, 1, 'queryDatabase_event.db')"
   ]
  },
  {
   "cell_type": "markdown",
   "metadata": {},
   "source": [
    "<h2>Step 3: Set Database</h2>\n",
    "Now that we have a <b>FltQuery</b> object, we need to set the database we want to query.  For most purposes, this will either be the FDW Flights database, or a specific Event database.<br>\n",
    "In this case, the database we want is the <b>High Rate of Descent on Final Approach</b> database in the the <b>Flight Safety Events</b> profile (shown in the picture below).<br>\n",
    "The database we are interested in is nested inside some folders, so before we can set the database to query, we will need to \"discover\" it by loading the folder that it is in. We do this using the update_dbtree() method. In this case, we want to dicover the path of the profile that contains the event we want.<br>\n",
    "<img src=\"notebook_images/Event_Query_database.png\">"
   ]
  },
  {
   "cell_type": "code",
   "execution_count": 7,
   "metadata": {},
   "outputs": [
    {
     "name": "stdout",
     "output_type": "stream",
     "text": [
      "On FDW(database_group)...\n"
     ]
    },
    {
     "name": "stderr",
     "output_type": "stream",
     "text": [
      "C:\\Users\\MROJKO\\Anaconda3\\lib\\site-packages\\emspy\\query\\flight.py:347: FutureWarning: The frame.append method is deprecated and will be removed from pandas in a future version. Use pandas.concat instead.\n",
      "  self._trees[treetype] = self._trees[treetype].append(d1, ignore_index=True)\n"
     ]
    },
    {
     "name": "stdout",
     "output_type": "stream",
     "text": [
      "-- Added 3 databases\n",
      "On APM Events(database_group)...\n"
     ]
    },
    {
     "name": "stderr",
     "output_type": "stream",
     "text": [
      "C:\\Users\\MROJKO\\Anaconda3\\lib\\site-packages\\emspy\\query\\flight.py:366: FutureWarning: The frame.append method is deprecated and will be removed from pandas in a future version. Use pandas.concat instead.\n",
      "  self._trees[treetype].append([x for x in d2 if x['id'] in add_id])\n"
     ]
    },
    {
     "name": "stdout",
     "output_type": "stream",
     "text": [
      "On Standard Library Profiles(database_group)...\n"
     ]
    },
    {
     "name": "stderr",
     "output_type": "stream",
     "text": [
      "C:\\Users\\MROJKO\\Anaconda3\\lib\\site-packages\\emspy\\query\\flight.py:366: FutureWarning: The frame.append method is deprecated and will be removed from pandas in a future version. Use pandas.concat instead.\n",
      "  self._trees[treetype].append([x for x in d2 if x['id'] in add_id])\n"
     ]
    },
    {
     "name": "stdout",
     "output_type": "stream",
     "text": [
      "On Safety(database_group)...\n"
     ]
    },
    {
     "name": "stderr",
     "output_type": "stream",
     "text": [
      "C:\\Users\\MROJKO\\Anaconda3\\lib\\site-packages\\emspy\\query\\flight.py:366: FutureWarning: The frame.append method is deprecated and will be removed from pandas in a future version. Use pandas.concat instead.\n",
      "  self._trees[treetype].append([x for x in d2 if x['id'] in add_id])\n"
     ]
    },
    {
     "name": "stdout",
     "output_type": "stream",
     "text": [
      "=== Starting to update subtree from 'P1: Library Flight Safety Events (database_group)' ===\n",
      "On P1: Library Flight Safety Events(database_group)...\n",
      "-- Added 222 databases\n"
     ]
    },
    {
     "name": "stderr",
     "output_type": "stream",
     "text": [
      "C:\\Users\\MROJKO\\Anaconda3\\lib\\site-packages\\emspy\\query\\flight.py:278: FutureWarning: The frame.append method is deprecated and will be removed from pandas in a future version. Use pandas.concat instead.\n",
      "  self._trees[treetype] = self._trees[treetype].append(d1, ignore_index=True)\n"
     ]
    }
   ],
   "source": [
    "query.update_dbtree('FDW', 'APM Events', 'Standard Library Profiles', 'Safety', 'P1: Library Flight Safety Events')"
   ]
  },
  {
   "cell_type": "markdown",
   "metadata": {},
   "source": [
    "Now, <font face='courier'>query</font> knows something about databases in the tree.  So in the following field, we select the database we want to use for our queries. "
   ]
  },
  {
   "cell_type": "code",
   "execution_count": 8,
   "metadata": {},
   "outputs": [
    {
     "name": "stdout",
     "output_type": "stream",
     "text": [
      "On High Rate of Descent on Final Approach(database)...\n",
      "Using database 'High Rate of Descent on Final Approach'.\n"
     ]
    },
    {
     "name": "stderr",
     "output_type": "stream",
     "text": [
      "C:\\Users\\MROJKO\\Anaconda3\\lib\\site-packages\\emspy\\query\\flight.py:366: FutureWarning: The frame.append method is deprecated and will be removed from pandas in a future version. Use pandas.concat instead.\n",
      "  self._trees[treetype].append([x for x in d2 if x['id'] in add_id])\n"
     ]
    }
   ],
   "source": [
    "query.set_database('High Rate of Descent on Final Approach')"
   ]
  },
  {
   "cell_type": "markdown",
   "metadata": {},
   "source": [
    "<h2>Step 4: Discover fields</h2>\n",
    "Now that we have set the database, we need to repeat the discovery phase but this time to find the fileds that we want to select and filter on. This is done using the update_fieldtree() method.<br>\n",
    "For this example, since we selected an single event as the databse, we will also have acces to the profile measurements as well as the event specific measrurements for the selected event.\n",
    "<img src=\"notebook_images/Event_Query_fields.png\"> "
   ]
  },
  {
   "cell_type": "code",
   "execution_count": 9,
   "metadata": {},
   "outputs": [
    {
     "name": "stdout",
     "output_type": "stream",
     "text": [
      "=== Starting to update subtree from 'Flight Information (field_group)' ===\n",
      "On Flight Information(field_group)...\n"
     ]
    },
    {
     "name": "stderr",
     "output_type": "stream",
     "text": [
      "C:\\Users\\MROJKO\\Anaconda3\\lib\\site-packages\\emspy\\query\\flight.py:278: FutureWarning: The frame.append method is deprecated and will be removed from pandas in a future version. Use pandas.concat instead.\n",
      "  self._trees[treetype] = self._trees[treetype].append(d1, ignore_index=True)\n",
      "C:\\Users\\MROJKO\\Anaconda3\\lib\\site-packages\\emspy\\query\\flight.py:286: FutureWarning: The frame.append method is deprecated and will be removed from pandas in a future version. Use pandas.concat instead.\n",
      "  self._trees[treetype] = self._trees[treetype].append(x, ignore_index=True)\n",
      "C:\\Users\\MROJKO\\Anaconda3\\lib\\site-packages\\emspy\\query\\flight.py:286: FutureWarning: The frame.append method is deprecated and will be removed from pandas in a future version. Use pandas.concat instead.\n",
      "  self._trees[treetype] = self._trees[treetype].append(x, ignore_index=True)\n"
     ]
    },
    {
     "name": "stdout",
     "output_type": "stream",
     "text": [
      "-- Added 6 fields\n",
      "=== Starting to update subtree from 'Profile 1: 'High Rate of Descent on Final Approach' Measurements (field_group)' ===\n",
      "On Profile 1: 'High Rate of Descent on Final Approach' Measurements(field_group)...\n"
     ]
    },
    {
     "name": "stderr",
     "output_type": "stream",
     "text": [
      "C:\\Users\\MROJKO\\Anaconda3\\lib\\site-packages\\emspy\\query\\flight.py:286: FutureWarning: The frame.append method is deprecated and will be removed from pandas in a future version. Use pandas.concat instead.\n",
      "  self._trees[treetype] = self._trees[treetype].append(x, ignore_index=True)\n"
     ]
    },
    {
     "name": "stdout",
     "output_type": "stream",
     "text": [
      "On Measurements(field_group)...\n",
      "-- Added 9 fields\n"
     ]
    },
    {
     "name": "stderr",
     "output_type": "stream",
     "text": [
      "C:\\Users\\MROJKO\\Anaconda3\\lib\\site-packages\\emspy\\query\\flight.py:278: FutureWarning: The frame.append method is deprecated and will be removed from pandas in a future version. Use pandas.concat instead.\n",
      "  self._trees[treetype] = self._trees[treetype].append(d1, ignore_index=True)\n"
     ]
    }
   ],
   "source": [
    "query.update_fieldtree('Flight Information', exclude_tree=['Processing', 'Date Times'])\n",
    "query.update_fieldtree(\"Profile 1: 'High Rate of Descent on Final Approach' Measurements\")"
   ]
  },
  {
   "cell_type": "markdown",
   "metadata": {},
   "source": [
    "Optional, save the metadata file so it can be used in later queries"
   ]
  },
  {
   "cell_type": "code",
   "execution_count": 10,
   "metadata": {},
   "outputs": [],
   "source": [
    "query.save_metadata('test2.db')"
   ]
  },
  {
   "cell_type": "markdown",
   "metadata": {},
   "source": [
    "<h2>Step 5: Select Fields</h2>\n",
    "We are ready to tell our query which fileds we want. we do this using the select() method. The fields that are selected will be the columns that are returned by the query."
   ]
  },
  {
   "cell_type": "code",
   "execution_count": 11,
   "metadata": {},
   "outputs": [
    {
     "name": "stderr",
     "output_type": "stream",
     "text": [
      "C:\\Users\\MROJKO\\Anaconda3\\lib\\site-packages\\emspy\\query\\flight.py:525: FutureWarning: The frame.append method is deprecated and will be removed from pandas in a future version. Use pandas.concat instead.\n",
      "  res = res.append(fres, ignore_index=True)\n"
     ]
    }
   ],
   "source": [
    "query.reset() # Clearing the query just in case\n",
    "query.select('Flight Record',\n",
    "             'P1: Max Exceedance of Rate of Descent Limit on 1st Approach (%)',\n",
    "             'P1: GPWS (alert if > 0.5) around time of Event')"
   ]
  },
  {
   "cell_type": "markdown",
   "metadata": {},
   "source": [
    "<h2>Step 6: Set Filters and other options</h2>\n",
    "We do not need this for this example, but this is the part where you would add filters, aggregation, and sorting."
   ]
  },
  {
   "cell_type": "markdown",
   "metadata": {},
   "source": [
    "<h2>Step 7: Run the Query</h2>\n",
    "We are ready to run the query. We do this using the run() method. This returns a pandas dataFrame"
   ]
  },
  {
   "cell_type": "code",
   "execution_count": 12,
   "metadata": {},
   "outputs": [
    {
     "name": "stdout",
     "output_type": "stream",
     "text": [
      "Sending and opening an async-query to EMS ... Done.\n",
      " === Async call: 1 ===\n",
      "Raw JSON output to Pandas dataframe...\n",
      "Done.\n",
      "Received up to 1071 rows.\n",
      "Done.\n"
     ]
    }
   ],
   "source": [
    "df = query.run()"
   ]
  },
  {
   "cell_type": "code",
   "execution_count": 13,
   "metadata": {},
   "outputs": [
    {
     "data": {
      "text/html": [
       "<div>\n",
       "<style scoped>\n",
       "    .dataframe tbody tr th:only-of-type {\n",
       "        vertical-align: middle;\n",
       "    }\n",
       "\n",
       "    .dataframe tbody tr th {\n",
       "        vertical-align: top;\n",
       "    }\n",
       "\n",
       "    .dataframe thead th {\n",
       "        text-align: right;\n",
       "    }\n",
       "</style>\n",
       "<table border=\"1\" class=\"dataframe\">\n",
       "  <thead>\n",
       "    <tr style=\"text-align: right;\">\n",
       "      <th></th>\n",
       "      <th>Flight Record</th>\n",
       "      <th>P1: Max Exceedance of Rate of Descent Limit on 1st Approach (%)</th>\n",
       "      <th>P1: GPWS (alert if &gt; 0.5) around time of Event</th>\n",
       "    </tr>\n",
       "  </thead>\n",
       "  <tbody>\n",
       "    <tr>\n",
       "      <th>0</th>\n",
       "      <td>56130</td>\n",
       "      <td>4.909819</td>\n",
       "      <td>0.0</td>\n",
       "    </tr>\n",
       "    <tr>\n",
       "      <th>1</th>\n",
       "      <td>56328</td>\n",
       "      <td>30.905516</td>\n",
       "      <td>1.0</td>\n",
       "    </tr>\n",
       "    <tr>\n",
       "      <th>2</th>\n",
       "      <td>56509</td>\n",
       "      <td>10.181508</td>\n",
       "      <td>1.0</td>\n",
       "    </tr>\n",
       "    <tr>\n",
       "      <th>3</th>\n",
       "      <td>56654</td>\n",
       "      <td>0.987042</td>\n",
       "      <td>NaN</td>\n",
       "    </tr>\n",
       "    <tr>\n",
       "      <th>4</th>\n",
       "      <td>57098</td>\n",
       "      <td>3.615143</td>\n",
       "      <td>0.0</td>\n",
       "    </tr>\n",
       "  </tbody>\n",
       "</table>\n",
       "</div>"
      ],
      "text/plain": [
       "   Flight Record  \\\n",
       "0          56130   \n",
       "1          56328   \n",
       "2          56509   \n",
       "3          56654   \n",
       "4          57098   \n",
       "\n",
       "   P1: Max Exceedance of Rate of Descent Limit on 1st Approach (%)  \\\n",
       "0                                           4.909819                 \n",
       "1                                          30.905516                 \n",
       "2                                          10.181508                 \n",
       "3                                           0.987042                 \n",
       "4                                           3.615143                 \n",
       "\n",
       "   P1: GPWS (alert if > 0.5) around time of Event  \n",
       "0                                             0.0  \n",
       "1                                             1.0  \n",
       "2                                             1.0  \n",
       "3                                             NaN  \n",
       "4                                             0.0  "
      ]
     },
     "execution_count": 13,
     "metadata": {},
     "output_type": "execute_result"
    }
   ],
   "source": [
    "df.head(5)"
   ]
  },
  {
   "cell_type": "markdown",
   "metadata": {},
   "source": [
    "<h2>Step 8: Data Manipulation and Graphing</h2>\n",
    "We now have the results in a dataframe, so we can use built-in data manipulation and graphing methods\n",
    "<img src=\"notebook_images/mpl.jpg\">"
   ]
  },
  {
   "cell_type": "code",
   "execution_count": 14,
   "metadata": {},
   "outputs": [],
   "source": [
    "value_column = 'P1: Max Exceedance of Rate of Descent Limit on 1st Approach (%)'\n",
    "group_column = 'P1: GPWS (alert if > 0.5) around time of Event'"
   ]
  },
  {
   "cell_type": "code",
   "execution_count": 15,
   "metadata": {},
   "outputs": [
    {
     "data": {
      "text/plain": [
       "<matplotlib.legend.Legend at 0x1f213c42910>"
      ]
     },
     "execution_count": 15,
     "metadata": {},
     "output_type": "execute_result"
    },
    {
     "data": {
      "image/png": "[encoded data removed]",
      "text/plain": [
       "<Figure size 864x432 with 1 Axes>"
      ]
     },
     "metadata": {
      "needs_background": "light"
     },
     "output_type": "display_data"
    }
   ],
   "source": [
    "import matplotlib.pyplot as plt\n",
    "\n",
    "fig, ax = plt.subplots(figsize=(12,6))\n",
    "\n",
    "zero = df.loc[df[group_column] == 0]\n",
    "one = df.loc[df[group_column] == 1]\n",
    "\n",
    "a_heights, a_bins = np.histogram(zero, bins=20, density=True)\n",
    "b_heights, b_bins = np.histogram(one, bins=a_bins, density=True)\n",
    "\n",
    "width = (a_bins[1] - a_bins[0])/3\n",
    "\n",
    "ax.bar(a_bins[:-1], a_heights, width=width, label='GPWS')\n",
    "ax.bar(b_bins[:-1]+width, b_heights, width=width, label='No GPWS')\n",
    "\n",
    "ax.set_xlabel(value_column)\n",
    "plt.legend()"
   ]
  }
 ],
 "metadata": {
  "kernelspec": {
   "display_name": "Python 3 (ipykernel)",
   "language": "python",
   "name": "python3"
  },
  "language_info": {
   "codemirror_mode": {
    "name": "ipython",
    "version": 3
   },
   "file_extension": ".py",
   "mimetype": "text/x-python",
   "name": "python",
   "nbconvert_exporter": "python",
   "pygments_lexer": "ipython3",
   "version": "3.9.12"
  },
  "vscode": {
   "interpreter": {
    "hash": "f182092d0a6525016b02e225462111a7e7dc0f4c7565c61c66b189504b830fe0"
   }
  }
 },
 "nbformat": 4,
 "nbformat_minor": 4
}
