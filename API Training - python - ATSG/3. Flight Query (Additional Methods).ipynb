{
 "cells": [
  {
   "cell_type": "markdown",
   "metadata": {},
   "source": [
    "<h1>More Fun <font face='courier'><b>FltQuery</b></font> Stuff</h1>"
   ]
  },
  {
   "cell_type": "markdown",
   "metadata": {},
   "source": [
    "As always, we start off by making a connection with our credentials"
   ]
  },
  {
   "cell_type": "code",
   "execution_count": 1,
   "metadata": {},
   "outputs": [],
   "source": [
    "import getpass\n",
    "import emspy\n",
    "from emspy import Connection"
   ]
  },
  {
   "cell_type": "code",
   "execution_count": 2,
   "metadata": {},
   "outputs": [],
   "source": [
    "#-- Original --#\n",
    "# user_name = input('Enter Username:')\n",
    "# pwd = getpass.getpass('Enter Password:')\n",
    "#--------------#\n",
    "\n",
    "user_name = 'jeffrey.okogbaa'\n",
    "pwd = 'Footballsd8973!'"
   ]
  },
  {
   "cell_type": "code",
   "execution_count": 3,
   "metadata": {},
   "outputs": [],
   "source": [
    "server_url = 'https://oae-api.us.efoqa.com/api'"
   ]
  },
  {
   "cell_type": "code",
   "execution_count": 4,
   "metadata": {},
   "outputs": [],
   "source": [
    "#connection without proxy\n",
    "c = Connection(user=user_name, pwd=pwd, server_url=server_url)"
   ]
  },
  {
   "cell_type": "markdown",
   "metadata": {},
   "source": [
    "<h1>In this section we are going to look at some of the other methods that can be used with the FltQuery class</h1>"
   ]
  },
  {
   "cell_type": "markdown",
   "metadata": {},
   "source": [
    "As before, we will need to import the `FltQuery` class and create a `FltQuery` object (which we will call `query`)"
   ]
  },
  {
   "cell_type": "code",
   "execution_count": 5,
   "metadata": {},
   "outputs": [
    {
     "name": "stdout",
     "output_type": "stream",
     "text": [
      "On <root>(root)...\n"
     ]
    },
    {
     "name": "stderr",
     "output_type": "stream",
     "text": [
      "C:\\Users\\MROJKO\\Anaconda3\\lib\\site-packages\\emspy\\query\\flight.py:366: FutureWarning: The frame.append method is deprecated and will be removed from pandas in a future version. Use pandas.concat instead.\n",
      "  self._trees[treetype].append([x for x in d2 if x['id'] in add_id])\n"
     ]
    },
    {
     "name": "stdout",
     "output_type": "stream",
     "text": [
      "=== Starting to update subtree from 'FDW (database_group)' ===\n",
      "On FDW(database_group)...\n"
     ]
    },
    {
     "name": "stderr",
     "output_type": "stream",
     "text": [
      "C:\\Users\\MROJKO\\Anaconda3\\lib\\site-packages\\emspy\\query\\flight.py:278: FutureWarning: The frame.append method is deprecated and will be removed from pandas in a future version. Use pandas.concat instead.\n",
      "  self._trees[treetype] = self._trees[treetype].append(d1, ignore_index=True)\n",
      "C:\\Users\\MROJKO\\Anaconda3\\lib\\site-packages\\emspy\\query\\flight.py:286: FutureWarning: The frame.append method is deprecated and will be removed from pandas in a future version. Use pandas.concat instead.\n",
      "  self._trees[treetype] = self._trees[treetype].append(x, ignore_index=True)\n",
      "C:\\Users\\MROJKO\\Anaconda3\\lib\\site-packages\\emspy\\query\\flight.py:286: FutureWarning: The frame.append method is deprecated and will be removed from pandas in a future version. Use pandas.concat instead.\n",
      "  self._trees[treetype] = self._trees[treetype].append(x, ignore_index=True)\n",
      "C:\\Users\\MROJKO\\Anaconda3\\lib\\site-packages\\emspy\\query\\flight.py:286: FutureWarning: The frame.append method is deprecated and will be removed from pandas in a future version. Use pandas.concat instead.\n",
      "  self._trees[treetype] = self._trees[treetype].append(x, ignore_index=True)\n"
     ]
    },
    {
     "name": "stdout",
     "output_type": "stream",
     "text": [
      "-- Added 3 databases\n",
      "On Dimensions(database_group)...\n",
      "-- Added 20 databases\n"
     ]
    },
    {
     "name": "stderr",
     "output_type": "stream",
     "text": [
      "C:\\Users\\MROJKO\\Anaconda3\\lib\\site-packages\\emspy\\query\\flight.py:278: FutureWarning: The frame.append method is deprecated and will be removed from pandas in a future version. Use pandas.concat instead.\n",
      "  self._trees[treetype] = self._trees[treetype].append(d1, ignore_index=True)\n"
     ]
    }
   ],
   "source": [
    "from emspy.query import FltQuery\n",
    "query = FltQuery(c, 1, 'queryDatabase_flightAdditional.db')"
   ]
  },
  {
   "cell_type": "markdown",
   "metadata": {},
   "source": [
    "<font face='courier'><b><h2><b>FltQuery.reset</b></h2></font>\n",
    "\n",
    "The `reset` method clears the query so that you can clean your `query` object and perform another query.\n",
    "<ul>\n",
    "    <li>The syntax is simply query.reset()</li>\n",
    "    <li>This will remove all selected fields, groupings, orderings, and filtering.</li>\n",
    "</ul>"
   ]
  },
  {
   "cell_type": "code",
   "execution_count": 6,
   "metadata": {},
   "outputs": [],
   "source": [
    "query.reset()"
   ]
  },
  {
   "cell_type": "markdown",
   "metadata": {},
   "source": [
    "---\n",
    "<font face='courier'><h2><b>FltQuery.disctinct</b></h2></font>\n",
    "The `distinct` method allows you specify whether or not to return duplicate rows.  distinct defaults to \"True\" (do not return duplicate rows).<br>\n",
    "Demonstration: do a Flight query for Tail number first with distinct = True and then distinct = False."
   ]
  },
  {
   "cell_type": "code",
   "execution_count": 7,
   "metadata": {},
   "outputs": [
    {
     "name": "stdout",
     "output_type": "stream",
     "text": [
      "On FDW Flights(database)...\n"
     ]
    },
    {
     "name": "stderr",
     "output_type": "stream",
     "text": [
      "C:\\Users\\MROJKO\\Anaconda3\\lib\\site-packages\\emspy\\query\\flight.py:366: FutureWarning: The frame.append method is deprecated and will be removed from pandas in a future version. Use pandas.concat instead.\n",
      "  self._trees[treetype].append([x for x in d2 if x['id'] in add_id])\n"
     ]
    },
    {
     "name": "stdout",
     "output_type": "stream",
     "text": [
      "Using database 'FDW Flights'.\n",
      "=== Starting to update subtree from 'Aircraft Information (field_group)' ===\n",
      "On Aircraft Information(field_group)...\n"
     ]
    },
    {
     "name": "stderr",
     "output_type": "stream",
     "text": [
      "C:\\Users\\MROJKO\\Anaconda3\\lib\\site-packages\\emspy\\query\\flight.py:278: FutureWarning: The frame.append method is deprecated and will be removed from pandas in a future version. Use pandas.concat instead.\n",
      "  self._trees[treetype] = self._trees[treetype].append(d1, ignore_index=True)\n",
      "C:\\Users\\MROJKO\\Anaconda3\\lib\\site-packages\\emspy\\query\\flight.py:286: FutureWarning: The frame.append method is deprecated and will be removed from pandas in a future version. Use pandas.concat instead.\n",
      "  self._trees[treetype] = self._trees[treetype].append(x, ignore_index=True)\n",
      "C:\\Users\\MROJKO\\Anaconda3\\lib\\site-packages\\emspy\\query\\flight.py:286: FutureWarning: The frame.append method is deprecated and will be removed from pandas in a future version. Use pandas.concat instead.\n",
      "  self._trees[treetype] = self._trees[treetype].append(x, ignore_index=True)\n",
      "C:\\Users\\MROJKO\\Anaconda3\\lib\\site-packages\\emspy\\query\\flight.py:286: FutureWarning: The frame.append method is deprecated and will be removed from pandas in a future version. Use pandas.concat instead.\n",
      "  self._trees[treetype] = self._trees[treetype].append(x, ignore_index=True)\n"
     ]
    },
    {
     "name": "stdout",
     "output_type": "stream",
     "text": [
      "-- Added 19 fields\n",
      "=== Starting to update subtree from 'Data Information (field_group)' ===\n",
      "On Data Information(field_group)...\n",
      "-- Added 12 fields\n"
     ]
    },
    {
     "name": "stderr",
     "output_type": "stream",
     "text": [
      "C:\\Users\\MROJKO\\Anaconda3\\lib\\site-packages\\emspy\\query\\flight.py:278: FutureWarning: The frame.append method is deprecated and will be removed from pandas in a future version. Use pandas.concat instead.\n",
      "  self._trees[treetype] = self._trees[treetype].append(d1, ignore_index=True)\n",
      "C:\\Users\\MROJKO\\Anaconda3\\lib\\site-packages\\emspy\\query\\flight.py:525: FutureWarning: The frame.append method is deprecated and will be removed from pandas in a future version. Use pandas.concat instead.\n",
      "  res = res.append(fres, ignore_index=True)\n"
     ]
    }
   ],
   "source": [
    "# Set the database and update fieldtree\n",
    "query.set_database('FDW Flights') # Set the database as FDW Flights\n",
    "query.update_fieldtree('Aircraft Information', exclude_tree=['Airframe Information','Data Status', 'Engine Information','Fleet Information'])\n",
    "query.update_fieldtree('Data Information') # Trying to add the random number field\n",
    "\n",
    "# Apply filtering and select a field\n",
    "query.filter(\"'Random Number [0-1]' <= '0.01'\")\n",
    "query.select('Tail Number')"
   ]
  },
  {
   "cell_type": "code",
   "execution_count": 8,
   "metadata": {},
   "outputs": [
    {
     "name": "stdout",
     "output_type": "stream",
     "text": [
      "Sending and opening an async-query to EMS ... Done.\n",
      " === Async call: 1 ===\n",
      "Raw JSON output to Pandas dataframe...\n",
      "Tail Number: Getting key-value mappings from API. (Caution: Some fields take a very long time)\n",
      "Done.\n",
      "Received up to 64 rows.\n",
      "Done.\n",
      "Returned rows: 64\n"
     ]
    },
    {
     "name": "stderr",
     "output_type": "stream",
     "text": [
      "C:\\Users\\MROJKO\\Anaconda3\\lib\\site-packages\\emspy\\query\\flight.py:584: FutureWarning: The frame.append method is deprecated and will be removed from pandas in a future version. Use pandas.concat instead.\n",
      "  self._trees['kvmaps'] = self._trees['kvmaps'].append(kmap, ignore_index=True)\n"
     ]
    }
   ],
   "source": [
    "# distinct defaults to \"True\", so we do not have to set it explicitly\n",
    "df = query.run()\n",
    "print('Returned rows: ' + str(df.size))"
   ]
  },
  {
   "cell_type": "markdown",
   "metadata": {},
   "source": [
    "Now let's set `disctinct = False` and see what happens"
   ]
  },
  {
   "cell_type": "code",
   "execution_count": 9,
   "metadata": {},
   "outputs": [
    {
     "name": "stderr",
     "output_type": "stream",
     "text": [
      "C:\\Users\\MROJKO\\Anaconda3\\lib\\site-packages\\emspy\\query\\flight.py:525: FutureWarning: The frame.append method is deprecated and will be removed from pandas in a future version. Use pandas.concat instead.\n",
      "  res = res.append(fres, ignore_index=True)\n"
     ]
    },
    {
     "name": "stdout",
     "output_type": "stream",
     "text": [
      "Sending and opening an async-query to EMS ... Done.\n",
      " === Async call: 1 ===\n",
      "Raw JSON output to Pandas dataframe...\n",
      "Done.\n",
      "Received up to 1496 rows.\n",
      "Done.\n",
      "Returned rows: 1496\n"
     ]
    }
   ],
   "source": [
    "# Reset the query, apply filtering and select a field\n",
    "query.reset()\n",
    "query.filter(\"'Random Number [0-1]' <= '0.01'\")\n",
    "query.select('Tail Number')\n",
    "\n",
    "# Set distinct = False and run the query\n",
    "query.distinct(False)\n",
    "df = query.run()\n",
    "print('Returned rows: ' + str(df.size))"
   ]
  },
  {
   "cell_type": "markdown",
   "metadata": {},
   "source": [
    "You can see that the call with `distinct = False` returned many more rows. "
   ]
  },
  {
   "cell_type": "markdown",
   "metadata": {},
   "source": [
    "---\n",
    "<font face='courier'><h2><b>FltQuery.group_by</b></h2></font>\n",
    "\n",
    "The `group_by` method allows you to group the data by one or more fields. <br>\n",
    "Note that all fields that are not being aggregated by will need a aggregation type associated with it. <br>\n",
    "Demostration: do a Flight query for Aircraft and Tail number, aggregate by Airframe, and count the number of tails in each airframe."
   ]
  },
  {
   "cell_type": "code",
   "execution_count": 10,
   "metadata": {},
   "outputs": [
    {
     "name": "stdout",
     "output_type": "stream",
     "text": [
      "On FDW Flights(database)...\n",
      "Using database 'FDW Flights'.\n",
      "=== Starting to update subtree from 'Aircraft Information (field_group)' ===\n",
      "On Aircraft Information(field_group)..."
     ]
    },
    {
     "name": "stderr",
     "output_type": "stream",
     "text": [
      "C:\\Users\\MROJKO\\Anaconda3\\lib\\site-packages\\emspy\\query\\flight.py:366: FutureWarning: The frame.append method is deprecated and will be removed from pandas in a future version. Use pandas.concat instead.\n",
      "  self._trees[treetype].append([x for x in d2 if x['id'] in add_id])\n",
      "C:\\Users\\MROJKO\\Anaconda3\\lib\\site-packages\\emspy\\query\\flight.py:278: FutureWarning: The frame.append method is deprecated and will be removed from pandas in a future version. Use pandas.concat instead.\n",
      "  self._trees[treetype] = self._trees[treetype].append(d1, ignore_index=True)\n"
     ]
    },
    {
     "name": "stdout",
     "output_type": "stream",
     "text": [
      "\n",
      "-- Added 19 fields\n"
     ]
    },
    {
     "name": "stderr",
     "output_type": "stream",
     "text": [
      "C:\\Users\\MROJKO\\Anaconda3\\lib\\site-packages\\emspy\\query\\flight.py:286: FutureWarning: The frame.append method is deprecated and will be removed from pandas in a future version. Use pandas.concat instead.\n",
      "  self._trees[treetype] = self._trees[treetype].append(x, ignore_index=True)\n",
      "C:\\Users\\MROJKO\\Anaconda3\\lib\\site-packages\\emspy\\query\\flight.py:286: FutureWarning: The frame.append method is deprecated and will be removed from pandas in a future version. Use pandas.concat instead.\n",
      "  self._trees[treetype] = self._trees[treetype].append(x, ignore_index=True)\n",
      "C:\\Users\\MROJKO\\Anaconda3\\lib\\site-packages\\emspy\\query\\flight.py:286: FutureWarning: The frame.append method is deprecated and will be removed from pandas in a future version. Use pandas.concat instead.\n",
      "  self._trees[treetype] = self._trees[treetype].append(x, ignore_index=True)\n",
      "C:\\Users\\MROJKO\\Anaconda3\\lib\\site-packages\\emspy\\query\\flight.py:525: FutureWarning: The frame.append method is deprecated and will be removed from pandas in a future version. Use pandas.concat instead.\n",
      "  res = res.append(fres, ignore_index=True)\n",
      "C:\\Users\\MROJKO\\Anaconda3\\lib\\site-packages\\emspy\\query\\flight.py:525: FutureWarning: The frame.append method is deprecated and will be removed from pandas in a future version. Use pandas.concat instead.\n",
      "  res = res.append(fres, ignore_index=True)\n"
     ]
    }
   ],
   "source": [
    "query.reset() # clearing the query, just in case\n",
    "query.set_database('FDW Flights')\n",
    "query.update_fieldtree('Aircraft Information', exclude_tree=['Airframe Information','Data Status', 'Engine Information','Fleet Information'])\n",
    "query.select('Airframe')\n",
    "query.select('Tail Number', aggregate='count') #note that we have to aggregate all the fields that we are not grouping by"
   ]
  },
  {
   "cell_type": "markdown",
   "metadata": {},
   "source": [
    "Add the `group_by` field."
   ]
  },
  {
   "cell_type": "code",
   "execution_count": 11,
   "metadata": {},
   "outputs": [],
   "source": [
    "query.group_by('Airframe')"
   ]
  },
  {
   "cell_type": "markdown",
   "metadata": {},
   "source": [
    "Run the query and look at the data."
   ]
  },
  {
   "cell_type": "code",
   "execution_count": 12,
   "metadata": {},
   "outputs": [
    {
     "name": "stdout",
     "output_type": "stream",
     "text": [
      "Sending and opening an async-query to EMS ... Done.\n",
      " === Async call: 1 ===\n",
      "Raw JSON output to Pandas dataframe...\n",
      "Airframe: Getting key-value mappings from API. (Caution: Some fields take a very long time)\n",
      "Done.\n",
      "Received up to 3 rows.\n",
      "Done.\n"
     ]
    },
    {
     "name": "stderr",
     "output_type": "stream",
     "text": [
      "C:\\Users\\MROJKO\\Anaconda3\\lib\\site-packages\\emspy\\query\\flight.py:584: FutureWarning: The frame.append method is deprecated and will be removed from pandas in a future version. Use pandas.concat instead.\n",
      "  self._trees['kvmaps'] = self._trees['kvmaps'].append(kmap, ignore_index=True)\n"
     ]
    }
   ],
   "source": [
    "df = query.run()"
   ]
  },
  {
   "cell_type": "code",
   "execution_count": 13,
   "metadata": {},
   "outputs": [
    {
     "data": {
      "text/html": [
       "<div>\n",
       "<style scoped>\n",
       "    .dataframe tbody tr th:only-of-type {\n",
       "        vertical-align: middle;\n",
       "    }\n",
       "\n",
       "    .dataframe tbody tr th {\n",
       "        vertical-align: top;\n",
       "    }\n",
       "\n",
       "    .dataframe thead th {\n",
       "        text-align: right;\n",
       "    }\n",
       "</style>\n",
       "<table border=\"1\" class=\"dataframe\">\n",
       "  <thead>\n",
       "    <tr style=\"text-align: right;\">\n",
       "      <th></th>\n",
       "      <th>Airframe</th>\n",
       "      <th>Count(Tail Number)</th>\n",
       "    </tr>\n",
       "  </thead>\n",
       "  <tbody>\n",
       "    <tr>\n",
       "      <th>0</th>\n",
       "      <td>Unknown</td>\n",
       "      <td>97</td>\n",
       "    </tr>\n",
       "    <tr>\n",
       "      <th>1</th>\n",
       "      <td>767-300/ER</td>\n",
       "      <td>99902</td>\n",
       "    </tr>\n",
       "    <tr>\n",
       "      <th>2</th>\n",
       "      <td>767-200</td>\n",
       "      <td>55974</td>\n",
       "    </tr>\n",
       "  </tbody>\n",
       "</table>\n",
       "</div>"
      ],
      "text/plain": [
       "     Airframe  Count(Tail Number)\n",
       "0     Unknown                  97\n",
       "1  767-300/ER               99902\n",
       "2     767-200               55974"
      ]
     },
     "execution_count": 13,
     "metadata": {},
     "output_type": "execute_result"
    }
   ],
   "source": [
    "df"
   ]
  },
  {
   "cell_type": "markdown",
   "metadata": {},
   "source": [
    "---\n",
    "<font face='courier'><h2><b>FltQuery.order_by</b></h2></font>\n",
    "\n",
    "The `order_by` method allows you to sort the returned data by one or more fields. <br>\n",
    "Demostration: do a Flight query for Aircraft and Fleet and sort by Airframe ascending and Fleet descending."
   ]
  },
  {
   "cell_type": "code",
   "execution_count": 14,
   "metadata": {},
   "outputs": [
    {
     "name": "stdout",
     "output_type": "stream",
     "text": [
      "On FDW Flights(database)...\n"
     ]
    },
    {
     "name": "stderr",
     "output_type": "stream",
     "text": [
      "C:\\Users\\MROJKO\\Anaconda3\\lib\\site-packages\\emspy\\query\\flight.py:366: FutureWarning: The frame.append method is deprecated and will be removed from pandas in a future version. Use pandas.concat instead.\n",
      "  self._trees[treetype].append([x for x in d2 if x['id'] in add_id])\n"
     ]
    },
    {
     "name": "stdout",
     "output_type": "stream",
     "text": [
      "Using database 'FDW Flights'.\n",
      "=== Starting to update subtree from 'Aircraft Information (field_group)' ===\n",
      "On Aircraft Information(field_group)...\n",
      "-- Added 19 fields\n"
     ]
    },
    {
     "name": "stderr",
     "output_type": "stream",
     "text": [
      "C:\\Users\\MROJKO\\Anaconda3\\lib\\site-packages\\emspy\\query\\flight.py:278: FutureWarning: The frame.append method is deprecated and will be removed from pandas in a future version. Use pandas.concat instead.\n",
      "  self._trees[treetype] = self._trees[treetype].append(d1, ignore_index=True)\n",
      "C:\\Users\\MROJKO\\Anaconda3\\lib\\site-packages\\emspy\\query\\flight.py:286: FutureWarning: The frame.append method is deprecated and will be removed from pandas in a future version. Use pandas.concat instead.\n",
      "  self._trees[treetype] = self._trees[treetype].append(x, ignore_index=True)\n",
      "C:\\Users\\MROJKO\\Anaconda3\\lib\\site-packages\\emspy\\query\\flight.py:286: FutureWarning: The frame.append method is deprecated and will be removed from pandas in a future version. Use pandas.concat instead.\n",
      "  self._trees[treetype] = self._trees[treetype].append(x, ignore_index=True)\n",
      "C:\\Users\\MROJKO\\Anaconda3\\lib\\site-packages\\emspy\\query\\flight.py:286: FutureWarning: The frame.append method is deprecated and will be removed from pandas in a future version. Use pandas.concat instead.\n",
      "  self._trees[treetype] = self._trees[treetype].append(x, ignore_index=True)\n",
      "C:\\Users\\MROJKO\\Anaconda3\\lib\\site-packages\\emspy\\query\\flight.py:525: FutureWarning: The frame.append method is deprecated and will be removed from pandas in a future version. Use pandas.concat instead.\n",
      "  res = res.append(fres, ignore_index=True)\n",
      "C:\\Users\\MROJKO\\Anaconda3\\lib\\site-packages\\emspy\\query\\flight.py:525: FutureWarning: The frame.append method is deprecated and will be removed from pandas in a future version. Use pandas.concat instead.\n",
      "  res = res.append(fres, ignore_index=True)\n"
     ]
    }
   ],
   "source": [
    "query.reset() # clearing the query, just in case\n",
    "query.set_database('FDW Flights')\n",
    "query.update_fieldtree('Aircraft Information', exclude_tree=['Airframe Information','Data Status', 'Engine Information','Fleet Information'])\n",
    "query.select('Airframe','Fleet')"
   ]
  },
  {
   "cell_type": "markdown",
   "metadata": {},
   "source": [
    "Add some sorting."
   ]
  },
  {
   "cell_type": "code",
   "execution_count": 15,
   "metadata": {},
   "outputs": [
    {
     "name": "stderr",
     "output_type": "stream",
     "text": [
      "C:\\Users\\MROJKO\\Anaconda3\\lib\\site-packages\\emspy\\query\\flight.py:525: FutureWarning: The frame.append method is deprecated and will be removed from pandas in a future version. Use pandas.concat instead.\n",
      "  res = res.append(fres, ignore_index=True)\n"
     ]
    }
   ],
   "source": [
    "query.order_by('Airframe',order='asc')\n",
    "query.order_by('Fleet',order='desc')"
   ]
  },
  {
   "cell_type": "code",
   "execution_count": null,
   "metadata": {},
   "outputs": [],
   "source": [
    "query.in_json()"
   ]
  },
  {
   "cell_type": "markdown",
   "metadata": {},
   "source": [
    "Run the query."
   ]
  },
  {
   "cell_type": "code",
   "execution_count": 16,
   "metadata": {},
   "outputs": [
    {
     "name": "stdout",
     "output_type": "stream",
     "text": [
      "Sending and opening an async-query to EMS ... Done.\n",
      " === Async call: 1 ===\n",
      "Raw JSON output to Pandas dataframe...\n",
      "Fleet Group: Getting key-value mappings from API. (Caution: Some fields take a very long time)\n",
      "Done.\n",
      "Received up to 5 rows.\n",
      "Done.\n"
     ]
    },
    {
     "name": "stderr",
     "output_type": "stream",
     "text": [
      "C:\\Users\\MROJKO\\Anaconda3\\lib\\site-packages\\emspy\\query\\flight.py:584: FutureWarning: The frame.append method is deprecated and will be removed from pandas in a future version. Use pandas.concat instead.\n",
      "  self._trees['kvmaps'] = self._trees['kvmaps'].append(kmap, ignore_index=True)\n"
     ]
    }
   ],
   "source": [
    "df = query.run()"
   ]
  },
  {
   "cell_type": "markdown",
   "metadata": {},
   "source": [
    "Print results. "
   ]
  },
  {
   "cell_type": "code",
   "execution_count": 17,
   "metadata": {},
   "outputs": [
    {
     "data": {
      "text/html": [
       "<div>\n",
       "<style scoped>\n",
       "    .dataframe tbody tr th:only-of-type {\n",
       "        vertical-align: middle;\n",
       "    }\n",
       "\n",
       "    .dataframe tbody tr th {\n",
       "        vertical-align: top;\n",
       "    }\n",
       "\n",
       "    .dataframe thead th {\n",
       "        text-align: right;\n",
       "    }\n",
       "</style>\n",
       "<table border=\"1\" class=\"dataframe\">\n",
       "  <thead>\n",
       "    <tr style=\"text-align: right;\">\n",
       "      <th></th>\n",
       "      <th>Airframe</th>\n",
       "      <th>Fleet Group</th>\n",
       "    </tr>\n",
       "  </thead>\n",
       "  <tbody>\n",
       "    <tr>\n",
       "      <th>0</th>\n",
       "      <td>Unknown</td>\n",
       "      <td>Unknown</td>\n",
       "    </tr>\n",
       "    <tr>\n",
       "      <th>1</th>\n",
       "      <td>767-200</td>\n",
       "      <td>B767</td>\n",
       "    </tr>\n",
       "    <tr>\n",
       "      <th>2</th>\n",
       "      <td>767-200</td>\n",
       "      <td>Unknown</td>\n",
       "    </tr>\n",
       "    <tr>\n",
       "      <th>3</th>\n",
       "      <td>767-300/ER</td>\n",
       "      <td>B767</td>\n",
       "    </tr>\n",
       "    <tr>\n",
       "      <th>4</th>\n",
       "      <td>767-300/ER</td>\n",
       "      <td>Unknown</td>\n",
       "    </tr>\n",
       "  </tbody>\n",
       "</table>\n",
       "</div>"
      ],
      "text/plain": [
       "     Airframe Fleet Group\n",
       "0     Unknown     Unknown\n",
       "1     767-200        B767\n",
       "2     767-200     Unknown\n",
       "3  767-300/ER        B767\n",
       "4  767-300/ER     Unknown"
      ]
     },
     "execution_count": 17,
     "metadata": {},
     "output_type": "execute_result"
    }
   ],
   "source": [
    "df"
   ]
  },
  {
   "cell_type": "markdown",
   "metadata": {},
   "source": [
    "---\n",
    "<font face='courier'><h2><b>FltQuery.get_top</b></h2></font>\n",
    "\n",
    "The `get_top` returns only the top N rows of the query.<br>\n",
    "Demonstration: do a Flight query for Tail number but only return the first 5 tails."
   ]
  },
  {
   "cell_type": "code",
   "execution_count": 18,
   "metadata": {},
   "outputs": [
    {
     "name": "stdout",
     "output_type": "stream",
     "text": [
      "On FDW Flights(database)...\n",
      "Using database 'FDW Flights'.\n",
      "=== Starting to update subtree from 'Aircraft Information (field_group)' ===\n",
      "On Aircraft Information(field_group)...\n"
     ]
    },
    {
     "name": "stderr",
     "output_type": "stream",
     "text": [
      "C:\\Users\\MROJKO\\Anaconda3\\lib\\site-packages\\emspy\\query\\flight.py:366: FutureWarning: The frame.append method is deprecated and will be removed from pandas in a future version. Use pandas.concat instead.\n",
      "  self._trees[treetype].append([x for x in d2 if x['id'] in add_id])\n"
     ]
    },
    {
     "name": "stdout",
     "output_type": "stream",
     "text": [
      "-- Added 19 fields\n"
     ]
    },
    {
     "name": "stderr",
     "output_type": "stream",
     "text": [
      "C:\\Users\\MROJKO\\Anaconda3\\lib\\site-packages\\emspy\\query\\flight.py:278: FutureWarning: The frame.append method is deprecated and will be removed from pandas in a future version. Use pandas.concat instead.\n",
      "  self._trees[treetype] = self._trees[treetype].append(d1, ignore_index=True)\n",
      "C:\\Users\\MROJKO\\Anaconda3\\lib\\site-packages\\emspy\\query\\flight.py:286: FutureWarning: The frame.append method is deprecated and will be removed from pandas in a future version. Use pandas.concat instead.\n",
      "  self._trees[treetype] = self._trees[treetype].append(x, ignore_index=True)\n",
      "C:\\Users\\MROJKO\\Anaconda3\\lib\\site-packages\\emspy\\query\\flight.py:286: FutureWarning: The frame.append method is deprecated and will be removed from pandas in a future version. Use pandas.concat instead.\n",
      "  self._trees[treetype] = self._trees[treetype].append(x, ignore_index=True)\n",
      "C:\\Users\\MROJKO\\Anaconda3\\lib\\site-packages\\emspy\\query\\flight.py:286: FutureWarning: The frame.append method is deprecated and will be removed from pandas in a future version. Use pandas.concat instead.\n",
      "  self._trees[treetype] = self._trees[treetype].append(x, ignore_index=True)\n",
      "C:\\Users\\MROJKO\\Anaconda3\\lib\\site-packages\\emspy\\query\\flight.py:525: FutureWarning: The frame.append method is deprecated and will be removed from pandas in a future version. Use pandas.concat instead.\n",
      "  res = res.append(fres, ignore_index=True)\n"
     ]
    }
   ],
   "source": [
    "query.reset() # clearing the query, just in case\n",
    "query.set_database('FDW Flights')\n",
    "query.update_fieldtree('Aircraft Information', exclude_tree=['Airframe Information','Data Status', 'Engine Information','Fleet Information'])\n",
    "query.select('Tail Number')"
   ]
  },
  {
   "cell_type": "code",
   "execution_count": 19,
   "metadata": {},
   "outputs": [],
   "source": [
    "query.get_top(5)"
   ]
  },
  {
   "cell_type": "markdown",
   "metadata": {},
   "source": [
    "Run and print. "
   ]
  },
  {
   "cell_type": "code",
   "execution_count": 20,
   "metadata": {},
   "outputs": [
    {
     "name": "stdout",
     "output_type": "stream",
     "text": [
      "Sending a simple query to EMS ...\n",
      "Done.\n",
      "Raw JSON output to Pandas dataframe...\n",
      "Done.\n"
     ]
    }
   ],
   "source": [
    "df = query.run()"
   ]
  },
  {
   "cell_type": "code",
   "execution_count": 21,
   "metadata": {},
   "outputs": [
    {
     "data": {
      "text/html": [
       "<div>\n",
       "<style scoped>\n",
       "    .dataframe tbody tr th:only-of-type {\n",
       "        vertical-align: middle;\n",
       "    }\n",
       "\n",
       "    .dataframe tbody tr th {\n",
       "        vertical-align: top;\n",
       "    }\n",
       "\n",
       "    .dataframe thead th {\n",
       "        text-align: right;\n",
       "    }\n",
       "</style>\n",
       "<table border=\"1\" class=\"dataframe\">\n",
       "  <thead>\n",
       "    <tr style=\"text-align: right;\">\n",
       "      <th></th>\n",
       "      <th>Tail Number</th>\n",
       "    </tr>\n",
       "  </thead>\n",
       "  <tbody>\n",
       "    <tr>\n",
       "      <th>0</th>\n",
       "      <td>N443AZ</td>\n",
       "    </tr>\n",
       "    <tr>\n",
       "      <th>1</th>\n",
       "      <td>N714AX</td>\n",
       "    </tr>\n",
       "    <tr>\n",
       "      <th>2</th>\n",
       "      <td>N307AZ</td>\n",
       "    </tr>\n",
       "    <tr>\n",
       "      <th>3</th>\n",
       "      <td>N449AZ</td>\n",
       "    </tr>\n",
       "    <tr>\n",
       "      <th>4</th>\n",
       "      <td>N749AX</td>\n",
       "    </tr>\n",
       "  </tbody>\n",
       "</table>\n",
       "</div>"
      ],
      "text/plain": [
       "  Tail Number\n",
       "0      N443AZ\n",
       "1      N714AX\n",
       "2      N307AZ\n",
       "3      N449AZ\n",
       "4      N749AX"
      ]
     },
     "execution_count": 21,
     "metadata": {},
     "output_type": "execute_result"
    }
   ],
   "source": [
    "df"
   ]
  },
  {
   "cell_type": "markdown",
   "metadata": {},
   "source": [
    "---\n",
    "<h2>More Stuff</h2>\n",
    "    <ul>\n",
    "        <li>query.get_database(): returns the database the object will query</li>\n",
    "        <li>query.save_metadata(): saves the metadata loded by the query to the .db file</li>\n",
    "        <li>query.load_metadata(): load the db metadata from a file</li>\n",
    "        <li>query.generate_preset_fieldtree:loads some subset of the field tree to the db file that has some basic info. I would not reccomend using this</li>\n",
    "        <li>query.in_dict(): returns the query info in dictionary format</li>\n",
    "        <li>query.in_json(): returns the query info in json format</li>\n",
    "    </ul>\n",
    "</b>"
   ]
  }
 ],
 "metadata": {
  "kernelspec": {
   "display_name": "Python 3 (ipykernel)",
   "language": "python",
   "name": "python3"
  },
  "language_info": {
   "codemirror_mode": {
    "name": "ipython",
    "version": 3
   },
   "file_extension": ".py",
   "mimetype": "text/x-python",
   "name": "python",
   "nbconvert_exporter": "python",
   "pygments_lexer": "ipython3",
   "version": "3.9.12"
  },
  "vscode": {
   "interpreter": {
    "hash": "f182092d0a6525016b02e225462111a7e7dc0f4c7565c61c66b189504b830fe0"
   }
  }
 },
 "nbformat": 4,
 "nbformat_minor": 4
}
