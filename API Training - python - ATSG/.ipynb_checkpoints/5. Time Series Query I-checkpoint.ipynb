{
 "cells": [
  {
   "cell_type": "markdown",
   "metadata": {},
   "source": [
    "<h1>Time Series Querying (I)</h1>"
   ]
  },
  {
   "cell_type": "markdown",
   "metadata": {},
   "source": [
    "Here we are going to import a new class from `emspy.query` called `TSeriesQuery`."
   ]
  },
  {
   "cell_type": "code",
   "execution_count": 6,
   "metadata": {},
   "outputs": [],
   "source": [
    "import emspy\n",
    "from emspy import Connection\n",
    "from emspy.query import FltQuery\n",
    "from emspy.query import TSeriesQuery"
   ]
  },
  {
   "cell_type": "markdown",
   "metadata": {},
   "source": [
    "Import getpass for handling passwords. "
   ]
  },
  {
   "cell_type": "code",
   "execution_count": 7,
   "metadata": {},
   "outputs": [],
   "source": [
    "import getpass"
   ]
  },
  {
   "cell_type": "markdown",
   "metadata": {},
   "source": [
    "Set up credentials. "
   ]
  },
  {
   "cell_type": "code",
   "execution_count": 12,
   "metadata": {},
   "outputs": [],
   "source": [
    "#-- Original --#\n",
    "# efoqa_user = input('Enter Username:')\n",
    "# efoqa_pass = getpass.getpass('Enter Password:')\n",
    "#--------------#\n",
    "\n",
    "efoqa_user = 'jeffrey.okogbaa'\n",
    "efoqa_pass = 'Footballsd8973!'"
   ]
  },
  {
   "cell_type": "markdown",
   "metadata": {},
   "source": [
    "Define a system."
   ]
  },
  {
   "cell_type": "code",
   "execution_count": 13,
   "metadata": {},
   "outputs": [],
   "source": [
    "server_url = 'https://oae-api.us.efoqa.com/api'"
   ]
  },
  {
   "cell_type": "markdown",
   "metadata": {},
   "source": [
    "Create a connection.  Uncomment the connection type that works for you. "
   ]
  },
  {
   "cell_type": "code",
   "execution_count": 14,
   "metadata": {},
   "outputs": [],
   "source": [
    "#connection without proxy\n",
    "c = Connection(user=efoqa_user, pwd=efoqa_pass, server_url=server_url)"
   ]
  },
  {
   "cell_type": "markdown",
   "metadata": {},
   "source": [
    "Define a flight record to use for a later flight query.  \n",
    "\n",
    "<b>Note:</b> I'm not going to go through the exercise here, but there are obviously ways you can retrieve flight records numbers using `FltQuery` queries.  Then you can pass these flight record numbers into a `TSeriesQuery` query to obtain time series data. "
   ]
  },
  {
   "cell_type": "code",
   "execution_count": 15,
   "metadata": {},
   "outputs": [],
   "source": [
    "fr = 235488"
   ]
  },
  {
   "cell_type": "markdown",
   "metadata": {},
   "source": [
    "Create a `TSeriesQuery` object.  Tell it that we want to use the `connection` object called c, and we want to connect to ems24-app.  Save metadata in the file specified by the data_file argument string. "
   ]
  },
  {
   "cell_type": "code",
   "execution_count": 16,
   "metadata": {},
   "outputs": [],
   "source": [
    "tsq = TSeriesQuery(c, 1, data_file='tsData.db')"
   ]
  },
  {
   "cell_type": "markdown",
   "metadata": {},
   "source": [
    "<h3>Add Parameters</h3>"
   ]
  },
  {
   "cell_type": "markdown",
   "metadata": {},
   "source": [
    "Specify the parameters you want to search for.  `tsq.select()` will take as many parameters as you give it.  \n",
    "\n",
    "<b>Note:</b> emsPy does not do anything with interpolation mode.  That means by default, you get `NaN` in return for values that are between samples. "
   ]
  },
  {
   "cell_type": "code",
   "execution_count": 17,
   "metadata": {},
   "outputs": [
    {
     "name": "stdout",
     "output_type": "stream",
     "text": [
      "Searching for params with keyword \"Pressure Altitude\" from EMS ... done.\n"
     ]
    },
    {
     "name": "stderr",
     "output_type": "stream",
     "text": [
      "C:\\Users\\MROJKO\\Anaconda3\\lib\\site-packages\\emspy\\query\\tsquery.py:206: FutureWarning: The frame.append method is deprecated and will be removed from pandas in a future version. Use pandas.concat instead.\n",
      "  self.__analytic._param_table.append(res_df, ignore_index=True, sort=True)\n"
     ]
    },
    {
     "name": "stdout",
     "output_type": "stream",
     "text": [
      "Searching for params with keyword \"airspeed (calibrated; 1 or only)\" from EMS ... done.\n",
      "Searching for params with keyword \"ground speed (best avail)\" from EMS ... "
     ]
    },
    {
     "name": "stderr",
     "output_type": "stream",
     "text": [
      "C:\\Users\\MROJKO\\Anaconda3\\lib\\site-packages\\emspy\\query\\tsquery.py:206: FutureWarning: The frame.append method is deprecated and will be removed from pandas in a future version. Use pandas.concat instead.\n",
      "  self.__analytic._param_table.append(res_df, ignore_index=True, sort=True)\n"
     ]
    },
    {
     "name": "stdout",
     "output_type": "stream",
     "text": [
      "done.\n"
     ]
    },
    {
     "name": "stderr",
     "output_type": "stream",
     "text": [
      "C:\\Users\\MROJKO\\Anaconda3\\lib\\site-packages\\emspy\\query\\tsquery.py:206: FutureWarning: The frame.append method is deprecated and will be removed from pandas in a future version. Use pandas.concat instead.\n",
      "  self.__analytic._param_table.append(res_df, ignore_index=True, sort=True)\n"
     ]
    }
   ],
   "source": [
    "tsq.select(\"Pressure Altitude\", \"airspeed (calibrated; 1 or only)\", \"ground speed (best avail)\")"
   ]
  },
  {
   "cell_type": "markdown",
   "metadata": {},
   "source": [
    "Alternate way to select parameters using list unpacking (this does the same thing as the cell above). "
   ]
  },
  {
   "cell_type": "markdown",
   "metadata": {},
   "source": [
    "<h3>Simple Query</h3>"
   ]
  },
  {
   "cell_type": "markdown",
   "metadata": {},
   "source": [
    "Run a time series query with the supplied flight record number. \n",
    "\n",
    "If start and end timepoints are not specified, this will retrieve the entire flight record. "
   ]
  },
  {
   "cell_type": "code",
   "execution_count": 18,
   "metadata": {},
   "outputs": [],
   "source": [
    "res_dat = tsq.run(fr)"
   ]
  },
  {
   "cell_type": "code",
   "execution_count": 19,
   "metadata": {},
   "outputs": [
    {
     "data": {
      "text/html": [
       "<div>\n",
       "<style scoped>\n",
       "    .dataframe tbody tr th:only-of-type {\n",
       "        vertical-align: middle;\n",
       "    }\n",
       "\n",
       "    .dataframe tbody tr th {\n",
       "        vertical-align: top;\n",
       "    }\n",
       "\n",
       "    .dataframe thead th {\n",
       "        text-align: right;\n",
       "    }\n",
       "</style>\n",
       "<table border=\"1\" class=\"dataframe\">\n",
       "  <thead>\n",
       "    <tr style=\"text-align: right;\">\n",
       "      <th></th>\n",
       "      <th>Time (sec)</th>\n",
       "      <th>Pressure Altitude (ft)</th>\n",
       "      <th>Airspeed (calibrated; 1 or Only) (knots)</th>\n",
       "      <th>Ground Speed (best avail) (knots)</th>\n",
       "    </tr>\n",
       "  </thead>\n",
       "  <tbody>\n",
       "    <tr>\n",
       "      <th>0</th>\n",
       "      <td>0.0</td>\n",
       "      <td>80.0</td>\n",
       "      <td>0.0</td>\n",
       "      <td>2.0</td>\n",
       "    </tr>\n",
       "    <tr>\n",
       "      <th>1</th>\n",
       "      <td>1.0</td>\n",
       "      <td>80.0</td>\n",
       "      <td>0.0</td>\n",
       "      <td>0.0</td>\n",
       "    </tr>\n",
       "    <tr>\n",
       "      <th>2</th>\n",
       "      <td>2.0</td>\n",
       "      <td>80.0</td>\n",
       "      <td>0.0</td>\n",
       "      <td>0.0</td>\n",
       "    </tr>\n",
       "    <tr>\n",
       "      <th>3</th>\n",
       "      <td>3.0</td>\n",
       "      <td>80.0</td>\n",
       "      <td>0.0</td>\n",
       "      <td>0.0</td>\n",
       "    </tr>\n",
       "    <tr>\n",
       "      <th>4</th>\n",
       "      <td>4.0</td>\n",
       "      <td>79.0</td>\n",
       "      <td>0.0</td>\n",
       "      <td>2.0</td>\n",
       "    </tr>\n",
       "    <tr>\n",
       "      <th>5</th>\n",
       "      <td>5.0</td>\n",
       "      <td>80.0</td>\n",
       "      <td>0.0</td>\n",
       "      <td>2.0</td>\n",
       "    </tr>\n",
       "    <tr>\n",
       "      <th>6</th>\n",
       "      <td>6.0</td>\n",
       "      <td>80.0</td>\n",
       "      <td>0.0</td>\n",
       "      <td>2.0</td>\n",
       "    </tr>\n",
       "    <tr>\n",
       "      <th>7</th>\n",
       "      <td>7.0</td>\n",
       "      <td>80.0</td>\n",
       "      <td>0.0</td>\n",
       "      <td>2.0</td>\n",
       "    </tr>\n",
       "    <tr>\n",
       "      <th>8</th>\n",
       "      <td>8.0</td>\n",
       "      <td>80.0</td>\n",
       "      <td>0.0</td>\n",
       "      <td>2.0</td>\n",
       "    </tr>\n",
       "    <tr>\n",
       "      <th>9</th>\n",
       "      <td>9.0</td>\n",
       "      <td>80.0</td>\n",
       "      <td>0.0</td>\n",
       "      <td>2.0</td>\n",
       "    </tr>\n",
       "  </tbody>\n",
       "</table>\n",
       "</div>"
      ],
      "text/plain": [
       "   Time (sec)  Pressure Altitude (ft)  \\\n",
       "0         0.0                    80.0   \n",
       "1         1.0                    80.0   \n",
       "2         2.0                    80.0   \n",
       "3         3.0                    80.0   \n",
       "4         4.0                    79.0   \n",
       "5         5.0                    80.0   \n",
       "6         6.0                    80.0   \n",
       "7         7.0                    80.0   \n",
       "8         8.0                    80.0   \n",
       "9         9.0                    80.0   \n",
       "\n",
       "   Airspeed (calibrated; 1 or Only) (knots)  Ground Speed (best avail) (knots)  \n",
       "0                                       0.0                                2.0  \n",
       "1                                       0.0                                0.0  \n",
       "2                                       0.0                                0.0  \n",
       "3                                       0.0                                0.0  \n",
       "4                                       0.0                                2.0  \n",
       "5                                       0.0                                2.0  \n",
       "6                                       0.0                                2.0  \n",
       "7                                       0.0                                2.0  \n",
       "8                                       0.0                                2.0  \n",
       "9                                       0.0                                2.0  "
      ]
     },
     "execution_count": 19,
     "metadata": {},
     "output_type": "execute_result"
    }
   ],
   "source": [
    "res_dat.head(10)"
   ]
  },
  {
   "cell_type": "markdown",
   "metadata": {},
   "source": [
    "<h3>Query with Start and End Specified</h3>"
   ]
  },
  {
   "cell_type": "markdown",
   "metadata": {},
   "source": [
    "Reset the time series query.  This removes the analytic ID's that were found earlier, as well as the queryset (the JSON text that is sent with the query). "
   ]
  },
  {
   "cell_type": "code",
   "execution_count": 20,
   "metadata": {},
   "outputs": [],
   "source": [
    "tsq.reset()\n",
    "tsq.select(\"Pressure Altitude\", \"airspeed (calibrated; 1 or only)\", \"ground speed (best avail)\")"
   ]
  },
  {
   "cell_type": "code",
   "execution_count": 21,
   "metadata": {},
   "outputs": [],
   "source": [
    "res_dat = tsq.run(fr, start=0, end=5)"
   ]
  },
  {
   "cell_type": "code",
   "execution_count": 22,
   "metadata": {},
   "outputs": [
    {
     "data": {
      "text/html": [
       "<div>\n",
       "<style scoped>\n",
       "    .dataframe tbody tr th:only-of-type {\n",
       "        vertical-align: middle;\n",
       "    }\n",
       "\n",
       "    .dataframe tbody tr th {\n",
       "        vertical-align: top;\n",
       "    }\n",
       "\n",
       "    .dataframe thead th {\n",
       "        text-align: right;\n",
       "    }\n",
       "</style>\n",
       "<table border=\"1\" class=\"dataframe\">\n",
       "  <thead>\n",
       "    <tr style=\"text-align: right;\">\n",
       "      <th></th>\n",
       "      <th>Time (sec)</th>\n",
       "      <th>Pressure Altitude (ft)</th>\n",
       "      <th>Airspeed (calibrated; 1 or Only) (knots)</th>\n",
       "      <th>Ground Speed (best avail) (knots)</th>\n",
       "    </tr>\n",
       "  </thead>\n",
       "  <tbody>\n",
       "    <tr>\n",
       "      <th>0</th>\n",
       "      <td>0.0</td>\n",
       "      <td>80.0</td>\n",
       "      <td>0.0</td>\n",
       "      <td>2.0</td>\n",
       "    </tr>\n",
       "    <tr>\n",
       "      <th>1</th>\n",
       "      <td>1.0</td>\n",
       "      <td>80.0</td>\n",
       "      <td>0.0</td>\n",
       "      <td>0.0</td>\n",
       "    </tr>\n",
       "    <tr>\n",
       "      <th>2</th>\n",
       "      <td>2.0</td>\n",
       "      <td>80.0</td>\n",
       "      <td>0.0</td>\n",
       "      <td>0.0</td>\n",
       "    </tr>\n",
       "    <tr>\n",
       "      <th>3</th>\n",
       "      <td>3.0</td>\n",
       "      <td>80.0</td>\n",
       "      <td>0.0</td>\n",
       "      <td>0.0</td>\n",
       "    </tr>\n",
       "    <tr>\n",
       "      <th>4</th>\n",
       "      <td>4.0</td>\n",
       "      <td>79.0</td>\n",
       "      <td>0.0</td>\n",
       "      <td>2.0</td>\n",
       "    </tr>\n",
       "    <tr>\n",
       "      <th>5</th>\n",
       "      <td>5.0</td>\n",
       "      <td>80.0</td>\n",
       "      <td>0.0</td>\n",
       "      <td>2.0</td>\n",
       "    </tr>\n",
       "  </tbody>\n",
       "</table>\n",
       "</div>"
      ],
      "text/plain": [
       "   Time (sec)  Pressure Altitude (ft)  \\\n",
       "0         0.0                    80.0   \n",
       "1         1.0                    80.0   \n",
       "2         2.0                    80.0   \n",
       "3         3.0                    80.0   \n",
       "4         4.0                    79.0   \n",
       "5         5.0                    80.0   \n",
       "\n",
       "   Airspeed (calibrated; 1 or Only) (knots)  Ground Speed (best avail) (knots)  \n",
       "0                                       0.0                                2.0  \n",
       "1                                       0.0                                0.0  \n",
       "2                                       0.0                                0.0  \n",
       "3                                       0.0                                0.0  \n",
       "4                                       0.0                                2.0  \n",
       "5                                       0.0                                2.0  "
      ]
     },
     "execution_count": 22,
     "metadata": {},
     "output_type": "execute_result"
    }
   ],
   "source": [
    "res_dat"
   ]
  },
  {
   "cell_type": "markdown",
   "metadata": {},
   "source": [
    "You can see that only samples between `start` and `end` are returned. "
   ]
  },
  {
   "cell_type": "code",
   "execution_count": 23,
   "metadata": {},
   "outputs": [],
   "source": [
    "tsq.reset()"
   ]
  },
  {
   "cell_type": "markdown",
   "metadata": {},
   "source": [
    "Same as above, but with a quickly sampled parameter included."
   ]
  },
  {
   "cell_type": "code",
   "execution_count": 24,
   "metadata": {},
   "outputs": [
    {
     "name": "stdout",
     "output_type": "stream",
     "text": [
      "Searching for params with keyword \"Acceleration (normal load-factor)\" from EMS ... done.\n"
     ]
    },
    {
     "name": "stderr",
     "output_type": "stream",
     "text": [
      "C:\\Users\\MROJKO\\Anaconda3\\lib\\site-packages\\emspy\\query\\tsquery.py:206: FutureWarning: The frame.append method is deprecated and will be removed from pandas in a future version. Use pandas.concat instead.\n",
      "  self.__analytic._param_table.append(res_df, ignore_index=True, sort=True)\n"
     ]
    }
   ],
   "source": [
    "tsq.select(\"Pressure Altitude\", \"airspeed (calibrated; 1 or only)\", \"ground speed (best avail)\", \"Acceleration (normal load-factor)\")"
   ]
  },
  {
   "cell_type": "code",
   "execution_count": null,
   "metadata": {},
   "outputs": [],
   "source": [
    "res_dat = tsq.run(fr, start=0, end=5)"
   ]
  },
  {
   "cell_type": "code",
   "execution_count": null,
   "metadata": {},
   "outputs": [],
   "source": [
    "res_dat"
   ]
  },
  {
   "cell_type": "markdown",
   "metadata": {},
   "source": [
    "<b>Side note:</b> here's how to interpolate in a dataframe.  This will probably fail if you have a column of non-numeric data. "
   ]
  },
  {
   "cell_type": "code",
   "execution_count": null,
   "metadata": {},
   "outputs": [],
   "source": [
    "res_dat.interpolate(how='linear', axis=0).head(10)"
   ]
  },
  {
   "cell_type": "markdown",
   "metadata": {},
   "source": [
    "<h3>Query with Start, End, and Timestep Specified</h3>"
   ]
  },
  {
   "cell_type": "code",
   "execution_count": null,
   "metadata": {},
   "outputs": [],
   "source": [
    "tsq.reset()\n",
    "tsq.select(\"Pressure Altitude\", \"airspeed (calibrated; 1 or only)\", \"ground speed (best avail)\")"
   ]
  },
  {
   "cell_type": "code",
   "execution_count": null,
   "metadata": {},
   "outputs": [],
   "source": [
    "res_dat = tsq.run(fr, start=695, end=696, timestep=0.125)"
   ]
  },
  {
   "cell_type": "code",
   "execution_count": null,
   "metadata": {},
   "outputs": [],
   "source": [
    "res_dat"
   ]
  },
  {
   "cell_type": "markdown",
   "metadata": {},
   "source": [
    "![timestep](notebook_images/timestep.png) "
   ]
  },
  {
   "cell_type": "markdown",
   "metadata": {},
   "source": [
    "<h3>Query with Specified Offsets</h3>"
   ]
  },
  {
   "cell_type": "code",
   "execution_count": null,
   "metadata": {},
   "outputs": [],
   "source": [
    "tsq.reset()\n",
    "tsq.select(\"Pressure Altitude\", \"airspeed (calibrated; 1 or only)\", \"ground speed (best avail)\")"
   ]
  },
  {
   "cell_type": "code",
   "execution_count": null,
   "metadata": {},
   "outputs": [],
   "source": [
    "res_dat = tsq.run(fr, timepoint = [0, 0.33, 1/4, 3])"
   ]
  },
  {
   "cell_type": "code",
   "execution_count": null,
   "metadata": {},
   "outputs": [],
   "source": [
    "res_dat"
   ]
  },
  {
   "cell_type": "markdown",
   "metadata": {},
   "source": [
    "<h3>Replicating Simple EMS Measurements</h3>"
   ]
  },
  {
   "cell_type": "markdown",
   "metadata": {},
   "source": [
    "Define the beginning and end of cruise (could also be pulled from a <font face='courier'>FltQuery</font>). "
   ]
  },
  {
   "cell_type": "code",
   "execution_count": null,
   "metadata": {},
   "outputs": [],
   "source": [
    "cruise_start = 1449\n",
    "cruise_end = 6614"
   ]
  },
  {
   "cell_type": "markdown",
   "metadata": {},
   "source": [
    "Select parameters."
   ]
  },
  {
   "cell_type": "code",
   "execution_count": null,
   "metadata": {},
   "outputs": [],
   "source": [
    "tsq.reset()\n",
    "tsq.select(\"Pressure Altitude\", \"airspeed (calibrated; 1 or only)\", \"ground speed (best avail)\")"
   ]
  },
  {
   "cell_type": "markdown",
   "metadata": {},
   "source": [
    "Run query."
   ]
  },
  {
   "cell_type": "code",
   "execution_count": null,
   "metadata": {},
   "outputs": [],
   "source": [
    "res_dat = tsq.run(fr, start=cruise_start, end=cruise_end)"
   ]
  },
  {
   "cell_type": "markdown",
   "metadata": {},
   "source": [
    "Calculate basic stats. "
   ]
  },
  {
   "cell_type": "code",
   "execution_count": null,
   "metadata": {},
   "outputs": [],
   "source": [
    "stats = res_dat.describe()\n",
    "display(stats)"
   ]
  },
  {
   "cell_type": "code",
   "execution_count": null,
   "metadata": {},
   "outputs": [],
   "source": [
    "print('mean pressure alt: ', stats.loc['mean', 'Pressure Altitude (ft)'])\n",
    "print('min pressure alt: ', stats.loc['min', 'Pressure Altitude (ft)'])\n",
    "print('max pressure alt: ', stats.loc['max', 'Pressure Altitude (ft)'])"
   ]
  },
  {
   "cell_type": "markdown",
   "metadata": {},
   "source": [
    "<h1>Plotting</h1>"
   ]
  },
  {
   "cell_type": "markdown",
   "metadata": {},
   "source": [
    "There are ***a ton*** of plotting libraries in Python. Many plotting libraries in Python are built on top of the Matplotlib interface. \n",
    "\n",
    "It is notoriously hard to work with.  I highly recommend researching other visualization libraries on your own.  \n",
    "\n",
    "1. bokeh\n",
    "2. seaborn\n",
    "3. holoviews\n",
    "4. plotly \n",
    "5. dash (made by the same people as plotly) - Python based dashboarding tool"
   ]
  },
  {
   "cell_type": "markdown",
   "metadata": {},
   "source": [
    "Select parameters and run query."
   ]
  },
  {
   "cell_type": "code",
   "execution_count": null,
   "metadata": {},
   "outputs": [],
   "source": [
    "tsq.reset()\n",
    "tsq.select(\"Pressure Altitude\", \"airspeed (calibrated; 1 or only)\", \"ground speed (best avail)\")\n",
    "res_dat = tsq.run(fr)"
   ]
  },
  {
   "cell_type": "markdown",
   "metadata": {},
   "source": [
    "Simple way: ***use built in pandas plotting methods!!!***\n",
    "\n",
    "Note: look at the type of the object returned below. "
   ]
  },
  {
   "cell_type": "code",
   "execution_count": null,
   "metadata": {},
   "outputs": [],
   "source": [
    "res_dat.plot.line(x='Time (sec)', y='Pressure Altitude (ft)')"
   ]
  },
  {
   "cell_type": "code",
   "execution_count": null,
   "metadata": {},
   "outputs": [],
   "source": [
    "res_dat.plot.line(x='Time (sec)', y=['Airspeed (calibrated; 1 or Only) (knots)', 'Ground Speed (best avail) (knots)'])"
   ]
  },
  {
   "cell_type": "markdown",
   "metadata": {},
   "source": [
    "<h1>More Advanced Plotting</h1>"
   ]
  },
  {
   "cell_type": "markdown",
   "metadata": {},
   "source": [
    "NOTE: bokeh plotting does not currently work in VS Code, but it does show correctly in Jupyter notebook"
   ]
  },
  {
   "cell_type": "code",
   "execution_count": null,
   "metadata": {},
   "outputs": [],
   "source": [
    "from bokeh.plotting import figure, show, ColumnDataSource\n",
    "from bokeh.io import output_notebook"
   ]
  },
  {
   "cell_type": "code",
   "execution_count": null,
   "metadata": {},
   "outputs": [],
   "source": [
    "output_notebook()"
   ]
  },
  {
   "cell_type": "code",
   "execution_count": null,
   "metadata": {},
   "outputs": [],
   "source": [
    "source = ColumnDataSource(res_dat.interpolate())\n",
    "\n",
    "p = figure(title = 'Pressure Alt (ft) vs. Time', x_axis_label = 'Time (sec)', plot_width=950, plot_height=400)\n",
    "p.line('Time (sec)', 'Pressure Altitude (ft)', line_color = 'blue', source = source)\n",
    "show(p)"
   ]
  },
  {
   "cell_type": "code",
   "execution_count": null,
   "metadata": {},
   "outputs": [],
   "source": []
  }
 ],
 "metadata": {
  "kernelspec": {
   "display_name": "Python 3 (ipykernel)",
   "language": "python",
   "name": "python3"
  },
  "language_info": {
   "codemirror_mode": {
    "name": "ipython",
    "version": 3
   },
   "file_extension": ".py",
   "mimetype": "text/x-python",
   "name": "python",
   "nbconvert_exporter": "python",
   "pygments_lexer": "ipython3",
   "version": "3.9.12"
  },
  "vscode": {
   "interpreter": {
    "hash": "f182092d0a6525016b02e225462111a7e7dc0f4c7565c61c66b189504b830fe0"
   }
  }
 },
 "nbformat": 4,
 "nbformat_minor": 4
}
