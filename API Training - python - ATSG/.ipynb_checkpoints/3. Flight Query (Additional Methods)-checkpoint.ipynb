{
 "cells": [
  {
   "cell_type": "markdown",
   "metadata": {},
   "source": [
    "<h1>More Fun <font face='courier'><b>FltQuery</b></font> Stuff</h1>"
   ]
  },
  {
   "cell_type": "markdown",
   "metadata": {},
   "source": [
    "As always, we start off by making a connection with our credentials"
   ]
  },
  {
   "cell_type": "code",
   "execution_count": 1,
   "metadata": {},
   "outputs": [],
   "source": [
    "import getpass\n",
    "import emspy\n",
    "from emspy import Connection"
   ]
  },
  {
   "cell_type": "code",
   "execution_count": 2,
   "metadata": {},
   "outputs": [],
   "source": [
    "#-- Original --#\n",
    "# user_name = input('Enter Username:')\n",
    "# pwd = getpass.getpass('Enter Password:')\n",
    "#--------------#\n",
    "\n",
    "user_name = 'jeffrey.okogbaa'\n",
    "pwd = 'Footballsd8973!'"
   ]
  },
  {
   "cell_type": "code",
   "execution_count": null,
   "metadata": {},
   "outputs": [],
   "source": [
    "server_url = 'https://oae-api.us.efoqa.com/api'"
   ]
  },
  {
   "cell_type": "code",
   "execution_count": null,
   "metadata": {},
   "outputs": [],
   "source": [
    "#connection without proxy\n",
    "c = Connection(user=user_name, pwd=pwd, server_url=server_url)"
   ]
  },
  {
   "cell_type": "markdown",
   "metadata": {},
   "source": [
    "<h1>In this section we are going to look at some of the other methods that can be used with the FltQuery class</h1>"
   ]
  },
  {
   "cell_type": "markdown",
   "metadata": {},
   "source": [
    "As before, we will need to import the `FltQuery` class and create a `FltQuery` object (which we will call `query`)"
   ]
  },
  {
   "cell_type": "code",
   "execution_count": null,
   "metadata": {},
   "outputs": [],
   "source": [
    "from emspy.query import FltQuery\n",
    "query = FltQuery(c, 1, 'queryDatabase_flightAdditional.db')"
   ]
  },
  {
   "cell_type": "markdown",
   "metadata": {},
   "source": [
    "<font face='courier'><b><h2><b>FltQuery.reset</b></h2></font>\n",
    "\n",
    "The `reset` method clears the query so that you can clean your `query` object and perform another query.\n",
    "<ul>\n",
    "    <li>The syntax is simply query.reset()</li>\n",
    "    <li>This will remove all selected fields, groupings, orderings, and filtering.</li>\n",
    "</ul>"
   ]
  },
  {
   "cell_type": "code",
   "execution_count": null,
   "metadata": {},
   "outputs": [],
   "source": [
    "query.reset()"
   ]
  },
  {
   "cell_type": "markdown",
   "metadata": {},
   "source": [
    "---\n",
    "<font face='courier'><h2><b>FltQuery.disctinct</b></h2></font>\n",
    "The `distinct` method allows you specify whether or not to return duplicate rows.  distinct defaults to \"True\" (do not return duplicate rows).<br>\n",
    "Demonstration: do a Flight query for Tail number first with distinct = True and then distinct = False."
   ]
  },
  {
   "cell_type": "code",
   "execution_count": null,
   "metadata": {},
   "outputs": [],
   "source": [
    "# Set the database and update fieldtree\n",
    "query.set_database('FDW Flights') # Set the database as FDW Flights\n",
    "query.update_fieldtree('Aircraft Information', exclude_tree=['Airframe Information','Data Status', 'Engine Information','Fleet Information'])\n",
    "query.update_fieldtree('Data Information') # Trying to add the random number field\n",
    "\n",
    "# Apply filtering and select a field\n",
    "query.filter(\"'Random Number [0-1]' <= '0.01'\")\n",
    "query.select('Tail Number')"
   ]
  },
  {
   "cell_type": "code",
   "execution_count": null,
   "metadata": {},
   "outputs": [],
   "source": [
    "# distinct defaults to \"True\", so we do not have to set it explicitly\n",
    "df = query.run()\n",
    "print('Returned rows: ' + str(df.size))"
   ]
  },
  {
   "cell_type": "markdown",
   "metadata": {},
   "source": [
    "Now let's set `disctinct = False` and see what happens"
   ]
  },
  {
   "cell_type": "code",
   "execution_count": null,
   "metadata": {},
   "outputs": [],
   "source": [
    "# Reset the query, apply filtering and select a field\n",
    "query.reset()\n",
    "query.filter(\"'Random Number [0-1]' <= '0.01'\")\n",
    "query.select('Tail Number')\n",
    "\n",
    "# Set distinct = False and run the query\n",
    "query.distinct(False)\n",
    "df = query.run()\n",
    "print('Returned rows: ' + str(df.size))"
   ]
  },
  {
   "cell_type": "markdown",
   "metadata": {},
   "source": [
    "You can see that the call with `distinct = False` returned many more rows. "
   ]
  },
  {
   "cell_type": "markdown",
   "metadata": {},
   "source": [
    "---\n",
    "<font face='courier'><h2><b>FltQuery.group_by</b></h2></font>\n",
    "\n",
    "The `group_by` method allows you to group the data by one or more fields. <br>\n",
    "Note that all fields that are not being aggregated by will need a aggregation type associated with it. <br>\n",
    "Demostration: do a Flight query for Aircraft and Tail number, aggregate by Airframe, and count the number of tails in each airframe."
   ]
  },
  {
   "cell_type": "code",
   "execution_count": null,
   "metadata": {},
   "outputs": [],
   "source": [
    "query.reset() # clearing the query, just in case\n",
    "query.set_database('FDW Flights')\n",
    "query.update_fieldtree('Aircraft Information', exclude_tree=['Airframe Information','Data Status', 'Engine Information','Fleet Information'])\n",
    "query.select('Airframe')\n",
    "query.select('Tail Number', aggregate='count') #note that we have to aggregate all the fields that we are not grouping by"
   ]
  },
  {
   "cell_type": "markdown",
   "metadata": {},
   "source": [
    "Add the `group_by` field."
   ]
  },
  {
   "cell_type": "code",
   "execution_count": null,
   "metadata": {},
   "outputs": [],
   "source": [
    "query.group_by('Airframe')"
   ]
  },
  {
   "cell_type": "markdown",
   "metadata": {},
   "source": [
    "Run the query and look at the data."
   ]
  },
  {
   "cell_type": "code",
   "execution_count": null,
   "metadata": {},
   "outputs": [],
   "source": [
    "df = query.run()"
   ]
  },
  {
   "cell_type": "code",
   "execution_count": null,
   "metadata": {},
   "outputs": [],
   "source": [
    "df"
   ]
  },
  {
   "cell_type": "markdown",
   "metadata": {},
   "source": [
    "---\n",
    "<font face='courier'><h2><b>FltQuery.order_by</b></h2></font>\n",
    "\n",
    "The `order_by` method allows you to sort the returned data by one or more fields. <br>\n",
    "Demostration: do a Flight query for Aircraft and Fleet and sort by Airframe ascending and Fleet descending."
   ]
  },
  {
   "cell_type": "code",
   "execution_count": null,
   "metadata": {},
   "outputs": [],
   "source": [
    "query.reset() # clearing the query, just in case\n",
    "query.set_database('FDW Flights')\n",
    "query.update_fieldtree('Aircraft Information', exclude_tree=['Airframe Information','Data Status', 'Engine Information','Fleet Information'])\n",
    "query.select('Airframe','Fleet')"
   ]
  },
  {
   "cell_type": "markdown",
   "metadata": {},
   "source": [
    "Add some sorting."
   ]
  },
  {
   "cell_type": "code",
   "execution_count": null,
   "metadata": {},
   "outputs": [],
   "source": [
    "query.order_by('Airframe',order='asc')\n",
    "query.order_by('Fleet',order='desc')"
   ]
  },
  {
   "cell_type": "code",
   "execution_count": null,
   "metadata": {},
   "outputs": [],
   "source": [
    "query.in_json()"
   ]
  },
  {
   "cell_type": "markdown",
   "metadata": {},
   "source": [
    "Run the query."
   ]
  },
  {
   "cell_type": "code",
   "execution_count": null,
   "metadata": {},
   "outputs": [],
   "source": [
    "df = query.run()"
   ]
  },
  {
   "cell_type": "markdown",
   "metadata": {},
   "source": [
    "Print results. "
   ]
  },
  {
   "cell_type": "code",
   "execution_count": null,
   "metadata": {},
   "outputs": [],
   "source": [
    "df"
   ]
  },
  {
   "cell_type": "markdown",
   "metadata": {},
   "source": [
    "---\n",
    "<font face='courier'><h2><b>FltQuery.get_top</b></h2></font>\n",
    "\n",
    "The `get_top` returns only the top N rows of the query.<br>\n",
    "Demonstration: do a Flight query for Tail number but only return the first 5 tails."
   ]
  },
  {
   "cell_type": "code",
   "execution_count": null,
   "metadata": {},
   "outputs": [],
   "source": [
    "query.reset() # clearing the query, just in case\n",
    "query.set_database('FDW Flights')\n",
    "query.update_fieldtree('Aircraft Information', exclude_tree=['Airframe Information','Data Status', 'Engine Information','Fleet Information'])\n",
    "query.select('Tail Number')"
   ]
  },
  {
   "cell_type": "code",
   "execution_count": null,
   "metadata": {},
   "outputs": [],
   "source": [
    "query.get_top(5)"
   ]
  },
  {
   "cell_type": "markdown",
   "metadata": {},
   "source": [
    "Run and print. "
   ]
  },
  {
   "cell_type": "code",
   "execution_count": null,
   "metadata": {},
   "outputs": [],
   "source": [
    "df = query.run()"
   ]
  },
  {
   "cell_type": "code",
   "execution_count": null,
   "metadata": {},
   "outputs": [],
   "source": [
    "df"
   ]
  },
  {
   "cell_type": "markdown",
   "metadata": {},
   "source": [
    "---\n",
    "<h2>More Stuff</h2>\n",
    "    <ul>\n",
    "        <li>query.get_database(): returns the database the object will query</li>\n",
    "        <li>query.save_metadata(): saves the metadata loded by the query to the .db file</li>\n",
    "        <li>query.load_metadata(): load the db metadata from a file</li>\n",
    "        <li>query.generate_preset_fieldtree:loads some subset of the field tree to the db file that has some basic info. I would not reccomend using this</li>\n",
    "        <li>query.in_dict(): returns the query info in dictionary format</li>\n",
    "        <li>query.in_json(): returns the query info in json format</li>\n",
    "    </ul>\n",
    "</b>"
   ]
  }
 ],
 "metadata": {
  "kernelspec": {
   "display_name": "Python 3 (ipykernel)",
   "language": "python",
   "name": "python3"
  },
  "language_info": {
   "codemirror_mode": {
    "name": "ipython",
    "version": 3
   },
   "file_extension": ".py",
   "mimetype": "text/x-python",
   "name": "python",
   "nbconvert_exporter": "python",
   "pygments_lexer": "ipython3",
   "version": "3.9.12"
  },
  "vscode": {
   "interpreter": {
    "hash": "f182092d0a6525016b02e225462111a7e7dc0f4c7565c61c66b189504b830fe0"
   }
  }
 },
 "nbformat": 4,
 "nbformat_minor": 4
}
