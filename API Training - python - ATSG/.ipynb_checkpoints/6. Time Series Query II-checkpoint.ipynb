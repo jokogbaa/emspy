{
 "cells": [
  {
   "cell_type": "markdown",
   "metadata": {},
   "source": [
    "<h1>Time Series Querying (II)</h1>"
   ]
  },
  {
   "cell_type": "markdown",
   "metadata": {},
   "source": [
    "Import emsPy."
   ]
  },
  {
   "cell_type": "code",
   "execution_count": 1,
   "metadata": {},
   "outputs": [],
   "source": [
    "from emspy import Connection\n",
    "from emspy.query import FltQuery\n",
    "from emspy.query import TSeriesQuery"
   ]
  },
  {
   "cell_type": "markdown",
   "metadata": {},
   "source": [
    "Import getpass for handling passwords. "
   ]
  },
  {
   "cell_type": "code",
   "execution_count": 2,
   "metadata": {},
   "outputs": [],
   "source": [
    "import getpass"
   ]
  },
  {
   "cell_type": "markdown",
   "metadata": {},
   "source": [
    "Import other packages. "
   ]
  },
  {
   "cell_type": "code",
   "execution_count": 3,
   "metadata": {},
   "outputs": [],
   "source": [
    "import pandas as pd\n",
    "import numpy as np"
   ]
  },
  {
   "cell_type": "markdown",
   "metadata": {},
   "source": [
    "Set up credentials. "
   ]
  },
  {
   "cell_type": "code",
   "execution_count": 5,
   "metadata": {},
   "outputs": [],
   "source": [
    "#-- Original --#\n",
    "# efoqa_user = input('Enter Username:')\n",
    "# efoqa_pass = getpass.getpass('Enter Password:')\n",
    "#--------------#\n",
    "\n",
    "efoqa_user = 'jeffrey.okogbaa'\n",
    "efoqa_pass = 'Footballsd8973!'"
   ]
  },
  {
   "cell_type": "markdown",
   "metadata": {},
   "source": [
    "Define a system. "
   ]
  },
  {
   "cell_type": "code",
   "execution_count": 6,
   "metadata": {},
   "outputs": [],
   "source": [
    "server_url = 'https://oae-api.us.efoqa.com/api'"
   ]
  },
  {
   "cell_type": "markdown",
   "metadata": {},
   "source": [
    "Create a connection."
   ]
  },
  {
   "cell_type": "code",
   "execution_count": 7,
   "metadata": {},
   "outputs": [],
   "source": [
    "c = Connection(user=efoqa_user, pwd=efoqa_pass, server_url=server_url)"
   ]
  },
  {
   "cell_type": "markdown",
   "metadata": {},
   "source": [
    "<h3>Multi Time Series Query with Specified Start and End</h3>"
   ]
  },
  {
   "cell_type": "code",
   "execution_count": 8,
   "metadata": {},
   "outputs": [],
   "source": [
    "tsq = TSeriesQuery(c, 1, data_file='tsData_multi.db')"
   ]
  },
  {
   "cell_type": "markdown",
   "metadata": {},
   "source": [
    "Specify the parameters you want to search for.  `tsq.select()` will take as many parameters as you give it."
   ]
  },
  {
   "cell_type": "code",
   "execution_count": null,
   "metadata": {},
   "outputs": [],
   "source": [
    "tsq.select(\"baro-corrected altitude\", \"pressure altitude\", \"airspeed (calibrated; 1 or only)\", \"ground speed (best avail)\")"
   ]
  },
  {
   "cell_type": "code",
   "execution_count": null,
   "metadata": {},
   "outputs": [],
   "source": [
    "flights = [235488, 235489, 235490, 235492]"
   ]
  },
  {
   "cell_type": "code",
   "execution_count": null,
   "metadata": {},
   "outputs": [],
   "source": [
    "res_dat = tsq.multi_run(flights)"
   ]
  },
  {
   "cell_type": "code",
   "execution_count": null,
   "metadata": {},
   "outputs": [],
   "source": [
    "print('tsq.multi_run() returns an object of type: ', type(res_dat))\n",
    "# print the first element in the res_dat list\n",
    "print('The first element of res_dat is of type: ', type(res_dat[0]) )\n",
    "print('The keys of res_dat[0] are: ', res_dat[0].keys(), '\\n')\n",
    "\n",
    "print(\"res_dat[0]['flt_data']:\")\n",
    "print(res_dat[0]['flt_data'])\n",
    "print()\n",
    "print(\"res_dat[0]['ts_data'].head(3):\")\n",
    "display(res_dat[0]['ts_data'].head(3))"
   ]
  },
  {
   "cell_type": "markdown",
   "metadata": {},
   "source": [
    "Illustration of the above: \n",
    "\n",
    "![test](notebook_images/res_dat.JPG)"
   ]
  },
  {
   "cell_type": "code",
   "execution_count": null,
   "metadata": {},
   "outputs": [],
   "source": [
    "print(res_dat[3]['flt_data']['Flight Record'])\n",
    "display(res_dat[3]['ts_data'].head(10))"
   ]
  },
  {
   "cell_type": "markdown",
   "metadata": {},
   "source": [
    "Calculate the mean of all columns in the dataframe at index 4. "
   ]
  },
  {
   "cell_type": "code",
   "execution_count": null,
   "metadata": {},
   "outputs": [],
   "source": [
    "mean = res_dat[3]['ts_data'].mean()\n",
    "display(mean)"
   ]
  },
  {
   "cell_type": "markdown",
   "metadata": {},
   "source": [
    "You can access individual values easily: "
   ]
  },
  {
   "cell_type": "code",
   "execution_count": null,
   "metadata": {},
   "outputs": [],
   "source": [
    "mean['Baro-Corrected Altitude (ft)']"
   ]
  },
  {
   "cell_type": "code",
   "execution_count": null,
   "metadata": {},
   "outputs": [],
   "source": [
    "stats = {}\n",
    "\n",
    "for res in res_dat:\n",
    "    fr = res['flt_data']['Flight Record']\n",
    "    df = res['ts_data']\n",
    "    stats[fr] = df.mean()"
   ]
  },
  {
   "cell_type": "markdown",
   "metadata": {},
   "source": [
    "Convert stats (which is a dictionary where each value is a Pandas Series) into a Dataframe.  Display the dataframe. "
   ]
  },
  {
   "cell_type": "code",
   "execution_count": null,
   "metadata": {},
   "outputs": [],
   "source": [
    "stats_df = pd.DataFrame(stats)\n",
    "display(stats_df)"
   ]
  },
  {
   "cell_type": "markdown",
   "metadata": {},
   "source": [
    "That looks gross.  Transpose it. "
   ]
  },
  {
   "cell_type": "code",
   "execution_count": null,
   "metadata": {},
   "outputs": [],
   "source": [
    "stats_df = stats_df.T"
   ]
  },
  {
   "cell_type": "code",
   "execution_count": null,
   "metadata": {},
   "outputs": [],
   "source": [
    "display(stats_df)"
   ]
  },
  {
   "cell_type": "markdown",
   "metadata": {},
   "source": [
    "<h3>Plotting</h3>"
   ]
  },
  {
   "cell_type": "markdown",
   "metadata": {},
   "source": [
    "There are ***a ton*** of plotting libraries in Python. It was one of the first, and many other plotting libraries in Python are built on top of the Matplotlib interface. \n",
    "\n",
    "It is notoriously hard to work with.  I highly recommend researching other visualization libraries on your own.  \n",
    "\n",
    "1. bokeh\n",
    "2. seaborn\n",
    "3. holoviews\n",
    "4. plotly \n",
    "5. dash (made by the same people as plotly) - Python based dashboarding tool"
   ]
  },
  {
   "cell_type": "markdown",
   "metadata": {},
   "source": [
    "Simple way: ***use built in pandas plotting methods!!!***"
   ]
  },
  {
   "cell_type": "code",
   "execution_count": null,
   "metadata": {},
   "outputs": [],
   "source": [
    "import matplotlib.pyplot as plt"
   ]
  },
  {
   "cell_type": "code",
   "execution_count": null,
   "metadata": {},
   "outputs": [],
   "source": [
    "fig, ax = plt.subplots(figsize=(12, 6))\n",
    "\n",
    "for entry in res_dat:\n",
    "    ts_data = entry['ts_data']\n",
    "    ax.plot(ts_data['Time (sec)'], ts_data['Baro-Corrected Altitude (ft)'], label=entry['flt_data']['Flight Record'])\n",
    "    \n",
    "ax.legend()"
   ]
  },
  {
   "cell_type": "markdown",
   "metadata": {},
   "source": [
    "<h3>Plotting with Start/End</h3>"
   ]
  },
  {
   "cell_type": "markdown",
   "metadata": {},
   "source": [
    "Define `flights`, `starts`, and `ends`, which we will use to grab the time series values. \n",
    "\n",
    "You can imagine these values coming from a previous database query. \n",
    "\n",
    "E.g. `flights` could be flight records that had some event, and `starts`, and `ends`, could be the starting times and ending times of these events. "
   ]
  },
  {
   "cell_type": "code",
   "execution_count": null,
   "metadata": {},
   "outputs": [],
   "source": [
    "flights = [235488, 235489, 235490, 235492]\n",
    "starts = [50, 60, 70, 80]\n",
    "ends = [70, 80, 90, 100]"
   ]
  },
  {
   "cell_type": "code",
   "execution_count": null,
   "metadata": {},
   "outputs": [],
   "source": [
    "res_dat = tsq.multi_run(flights, start=starts, end=ends)"
   ]
  },
  {
   "cell_type": "code",
   "execution_count": null,
   "metadata": {},
   "outputs": [],
   "source": [
    "fig, ax = plt.subplots(figsize=(12, 6))\n",
    "\n",
    "for entry in res_dat:\n",
    "    ts_data = entry['ts_data']\n",
    "    ax.plot(ts_data['Time (sec)'], ts_data['Baro-Corrected Altitude (ft)'], label=entry['flt_data']['Flight Record'])\n",
    "    \n",
    "ax.legend()"
   ]
  }
 ],
 "metadata": {
  "kernelspec": {
   "display_name": "Python 3 (ipykernel)",
   "language": "python",
   "name": "python3"
  },
  "language_info": {
   "codemirror_mode": {
    "name": "ipython",
    "version": 3
   },
   "file_extension": ".py",
   "mimetype": "text/x-python",
   "name": "python",
   "nbconvert_exporter": "python",
   "pygments_lexer": "ipython3",
   "version": "3.9.12"
  },
  "vscode": {
   "interpreter": {
    "hash": "f182092d0a6525016b02e225462111a7e7dc0f4c7565c61c66b189504b830fe0"
   }
  }
 },
 "nbformat": 4,
 "nbformat_minor": 4
}
