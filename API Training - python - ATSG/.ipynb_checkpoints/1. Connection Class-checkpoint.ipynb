{
 "cells": [
  {
   "cell_type": "markdown",
   "metadata": {},
   "source": [
    "<h1>Connecting to the API and Instantiating Queries </h1>"
   ]
  },
  {
   "cell_type": "markdown",
   "metadata": {},
   "source": [
    "<hr>\n",
    "In order to run the following code, you will first need to install the emsPy module in your enviroment. <br>\n",
    "If you have already done this, keep going. if not, first install emsPy, <br>\n",
    "The emsPy module can be found in the <style=\"color:Peru;\"><a href=\"https://github.com/ge-flight-analytics/emspy\">emsPy GitHub page</a> <br>\n",
    "You can also pip install it (pip install emspy).\n",
    "<hr>"
   ]
  },
  {
   "cell_type": "markdown",
   "metadata": {},
   "source": [
    "<h3> Creating a Connection</h3>"
   ]
  },
  {
   "cell_type": "markdown",
   "metadata": {},
   "source": [
    "Now that emspy is installed we can import emspy along with the emspy `Connection` class."
   ]
  },
  {
   "cell_type": "code",
   "execution_count": null,
   "metadata": {},
   "outputs": [],
   "source": [
    "import emspy\n",
    "from emspy import Connection"
   ]
  },
  {
   "cell_type": "markdown",
   "metadata": {},
   "source": [
    "To create an API Connection we will need to provide a user name and password.<br> \n",
    "This is your efoqa login.  It is recommended to use something like the getpass module to at least hide the password form the screen."
   ]
  },
  {
   "cell_type": "code",
   "execution_count": null,
   "metadata": {},
   "outputs": [],
   "source": [
    "import getpass"
   ]
  },
  {
   "cell_type": "code",
   "execution_count": null,
   "metadata": {},
   "outputs": [],
   "source": [
    "user_name = input('Enter Username:')\n",
    "pwd = getpass.getpass('Enter Password:')"
   ]
  },
  {
   "cell_type": "markdown",
   "metadata": {},
   "source": [
    "Define a system. "
   ]
  },
  {
   "cell_type": "code",
   "execution_count": null,
   "metadata": {},
   "outputs": [],
   "source": [
    "server_url = 'https://oae-api.us.efoqa.com/api'"
   ]
  },
  {
   "cell_type": "markdown",
   "metadata": {},
   "source": [
    "To instantiate a <font face='courier'>Connection</font> object the following parameters are needed:\n",
    "    <ul>\n",
    "        <li>user (str): The user name to use for an API connection (efoqa username).</li>\n",
    "        <li>pwd (str): The password for the above user.</li>\n",
    "        <li>proxies (optional, dict): Proxy settings if using a proxy.</li>\n",
    "        <li>verbose (optional, bool): Defaults to <i>False</i>.  Indicates whether or not to print full detail connections.</li>\n",
    "        <li>ignore_ssl_errors (optional, bool): Defaults to <i>False</i>.  If you are on a Mac, you may need to set this to <i>True</i> when using proxies.</li>\n",
    "        <li>server_url (str): This is the url for the API server.</li>\n",
    "    </ul>\n",
    "</h4>"
   ]
  },
  {
   "cell_type": "code",
   "execution_count": null,
   "metadata": {},
   "outputs": [],
   "source": [
    "c = Connection(user=user_name, pwd=pwd, server_url=server_url)"
   ]
  },
  {
   "cell_type": "markdown",
   "metadata": {},
   "source": [
    "<h3> Defining Connection API Instance</h3>"
   ]
  },
  {
   "cell_type": "markdown",
   "metadata": {},
   "source": [
    "The code below will return the API server associated with the `Connection` object."
   ]
  },
  {
   "cell_type": "code",
   "execution_count": null,
   "metadata": {},
   "outputs": [],
   "source": [
    "c._uri_root"
   ]
  },
  {
   "cell_type": "markdown",
   "metadata": {},
   "source": [
    "<h3> Cool!  I have a connection!  What does that mean?</h3>\n",
    "<img src=\"notebook_images/confused-cat.jpg\">"
   ]
  },
  {
   "cell_type": "markdown",
   "metadata": {},
   "source": [
    "You now have a security token and the API knows what you have access to.<br>\n",
    "This token will be attached to all calls for this session in the background."
   ]
  },
  {
   "cell_type": "code",
   "execution_count": null,
   "metadata": {},
   "outputs": [],
   "source": [
    "print(c.token_type)\n",
    "print(c.token)"
   ]
  },
  {
   "cell_type": "markdown",
   "metadata": {},
   "source": [
    "Ok, but how do I <s>see more cat pictures</s> connect to an actual system?"
   ]
  },
  {
   "cell_type": "markdown",
   "metadata": {},
   "source": [
    "To do that we will need to create a `Query` object.<br>\n",
    "There are a few different types of `Query` classes in the wrapper, but for this demonstration we will use the `FltQuery` one.<br>\n",
    "The `FltQuery` class can be found in the `query` module of the emsPy package."
   ]
  },
  {
   "cell_type": "code",
   "execution_count": null,
   "metadata": {},
   "outputs": [],
   "source": [
    "from emspy.query import FltQuery"
   ]
  },
  {
   "cell_type": "markdown",
   "metadata": {},
   "source": [
    "Instantiating a `FltQuery` object requires the following arguments<br>\n",
    "    <ul>\n",
    "        <li>conn (`Connection`): The object we created above!</li>\n",
    "        <li>ems_name (str): The EMS system that you want to connect to. If you only have access to one system on this server, just use 1.</li>\n",
    "        <li>data_file (optional, str): If you have a file already, the query will use it to speed-up the load process. If the passed filename does not exist, one will be created in the working directory. The filename should be *.db. While the data)file is optional, it is highly reccomended to have one, otherwise emsPy will create a temp file for this purpose that will be hard to find and use later on.</li>\n",
    "    </ul>\n",
    "The code below will create a db file called \"queryMetadata.db\" in your working directory."
   ]
  },
  {
   "cell_type": "code",
   "execution_count": null,
   "metadata": {},
   "outputs": [],
   "source": [
    "query = FltQuery(c, 1, data_file=\"queryMetadata.db\")"
   ]
  },
  {
   "cell_type": "code",
   "execution_count": null,
   "metadata": {},
   "outputs": [],
   "source": []
  }
 ],
 "metadata": {
  "kernelspec": {
   "display_name": "Python 3 (ipykernel)",
   "language": "python",
   "name": "python3"
  },
  "language_info": {
   "codemirror_mode": {
    "name": "ipython",
    "version": 3
   },
   "file_extension": ".py",
   "mimetype": "text/x-python",
   "name": "python",
   "nbconvert_exporter": "python",
   "pygments_lexer": "ipython3",
   "version": "3.9.12"
  },
  "vscode": {
   "interpreter": {
    "hash": "f182092d0a6525016b02e225462111a7e7dc0f4c7565c61c66b189504b830fe0"
   }
  }
 },
 "nbformat": 4,
 "nbformat_minor": 4
}
